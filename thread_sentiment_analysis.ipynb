{
  "cells": [
    {
      "cell_type": "markdown",
      "metadata": {
        "id": "hOUbE3KuYApd"
      },
      "source": [
        "Abaikan bagian **Data Gathering** jika sudah memiliki file datasetnya.\n",
        "\n",
        "Upload datasetnya secara manual dan jalankan kode program dari bagian **Data Analysis** dan seterusnya."
      ]
    },
    {
      "cell_type": "markdown",
      "metadata": {
        "id": "aDpvAw4Mo-QI"
      },
      "source": [
        "# Data Gathering"
      ]
    },
    {
      "cell_type": "markdown",
      "metadata": {
        "id": "5KiUWdHMdnrl"
      },
      "source": [
        "Install library google-play-scrapper untuk melakukan scrapping reviews."
      ]
    },
    {
      "cell_type": "code",
      "execution_count": null,
      "metadata": {
        "colab": {
          "base_uri": "https://localhost:8080/"
        },
        "id": "cYVEyJkvkHM3",
        "outputId": "80c19efa-890e-4585-d504-5b771edec89c"
      },
      "outputs": [
        {
          "output_type": "stream",
          "name": "stdout",
          "text": [
            "Collecting google-play-scraper\n",
            "  Downloading google_play_scraper-1.2.7-py3-none-any.whl.metadata (50 kB)\n",
            "\u001b[?25l     \u001b[90m━━━━━━━━━━━━━━━━━━━━━━━━━━━━━━━━━━━━━━━━\u001b[0m \u001b[32m0.0/50.2 kB\u001b[0m \u001b[31m?\u001b[0m eta \u001b[36m-:--:--\u001b[0m\r\u001b[2K     \u001b[90m━━━━━━━━━━━━━━━━━━━━━━━━━━━━━━━━━━━━━━━━\u001b[0m \u001b[32m50.2/50.2 kB\u001b[0m \u001b[31m3.0 MB/s\u001b[0m eta \u001b[36m0:00:00\u001b[0m\n",
            "\u001b[?25hDownloading google_play_scraper-1.2.7-py3-none-any.whl (28 kB)\n"
          ]
        }
      ],
      "source": [
        "!pip install google-play-scraper"
      ]
    },
    {
      "cell_type": "markdown",
      "metadata": {
        "id": "2Bp8M7mrAFW-"
      },
      "source": [
        "Code dibawah ini untuk memperbaiki masalah limitasi scraping data di library google-play-scrapper, abaikan saja."
      ]
    },
    {
      "cell_type": "code",
      "execution_count": null,
      "metadata": {
        "id": "g_TrplvPhRxK"
      },
      "outputs": [],
      "source": [
        "import json\n",
        "from time import sleep\n",
        "from typing import List, Optional, Tuple\n",
        "\n",
        "from google_play_scraper import Sort\n",
        "from google_play_scraper.constants.element import ElementSpecs\n",
        "from google_play_scraper.constants.regex import Regex\n",
        "from google_play_scraper.constants.request import Formats\n",
        "from google_play_scraper.utils.request import post\n",
        "\n",
        "MAX_COUNT_EACH_FETCH = 199\n",
        "\n",
        "class _ContinuationToken:\n",
        "    __slots__ = (\n",
        "        \"token\",\n",
        "        \"lang\",\n",
        "        \"country\",\n",
        "        \"sort\",\n",
        "        \"count\",\n",
        "        \"filter_score_with\",\n",
        "        \"filter_device_with\",\n",
        "    )\n",
        "\n",
        "    def __init__(self, token, lang, country, sort, count, filter_score_with, filter_device_with):\n",
        "        self.token = token\n",
        "        self.lang = lang\n",
        "        self.country = country\n",
        "        self.sort = sort\n",
        "        self.count = count\n",
        "        self.filter_score_with = filter_score_with\n",
        "        self.filter_device_with = filter_device_with\n",
        "\n",
        "def _fetch_review_items(\n",
        "    url: str,\n",
        "    app_id: str,\n",
        "    sort: int,\n",
        "    count: int,\n",
        "    filter_score_with: Optional[int],\n",
        "    filter_device_with: Optional[int],\n",
        "    pagination_token: Optional[str],\n",
        "):\n",
        "    dom = post(\n",
        "        url,\n",
        "        Formats.Reviews.build_body(\n",
        "            app_id,\n",
        "            sort,\n",
        "            count,\n",
        "            \"null\" if filter_score_with is None else filter_score_with,\n",
        "            \"null\" if filter_device_with is None else filter_device_with,\n",
        "            pagination_token,\n",
        "        ),\n",
        "        {\"content-type\": \"application/x-www-form-urlencoded\"},\n",
        "    )\n",
        "    match = json.loads(Regex.REVIEWS.findall(dom)[0])\n",
        "\n",
        "    return json.loads(match[0][2])[0], json.loads(match[0][2])[-2][-1]\n",
        "\n",
        "\n",
        "def reviews(\n",
        "    app_id: str,\n",
        "    lang: str = \"en\",\n",
        "    country: str = \"us\",\n",
        "    sort: Sort = Sort.NEWEST,\n",
        "    count: int = 100,\n",
        "    filter_score_with: int = None,\n",
        "    filter_device_with: int = None,\n",
        "    continuation_token: _ContinuationToken = None,\n",
        ") -> Tuple[List[dict], _ContinuationToken]:\n",
        "    sort = sort.value\n",
        "\n",
        "    if continuation_token is not None:\n",
        "        token = continuation_token.token\n",
        "\n",
        "        if token is None:\n",
        "            return ([], continuation_token)\n",
        "\n",
        "        lang = continuation_token.lang\n",
        "        country = continuation_token.country\n",
        "        sort = continuation_token.sort\n",
        "        count = continuation_token.count\n",
        "        filter_score_with = continuation_token.filter_score_with\n",
        "        filter_device_with = continuation_token.filter_device_with\n",
        "    else:\n",
        "        token = None\n",
        "\n",
        "    url = Formats.Reviews.build(lang=lang, country=country)\n",
        "    _fetch_count = count\n",
        "\n",
        "    result = []\n",
        "\n",
        "    while True:\n",
        "        if _fetch_count == 0:\n",
        "            break\n",
        "\n",
        "        if _fetch_count > MAX_COUNT_EACH_FETCH:\n",
        "            _fetch_count = MAX_COUNT_EACH_FETCH\n",
        "\n",
        "        try:\n",
        "            review_items, token = _fetch_review_items(\n",
        "                url,\n",
        "                app_id,\n",
        "                sort,\n",
        "                _fetch_count,\n",
        "                filter_score_with,\n",
        "                filter_device_with,\n",
        "                token,\n",
        "            )\n",
        "        except (TypeError, IndexError):\n",
        "            #funnan MOD start\n",
        "            token = continuation_token.token\n",
        "            continue\n",
        "            #MOD end\n",
        "\n",
        "        for review in review_items:\n",
        "            result.append({ k: spec.extract_content(review) for k, spec in ElementSpecs.Review.items() })\n",
        "\n",
        "        _fetch_count = count - len(result)\n",
        "\n",
        "        if isinstance(token, list):\n",
        "            token = None\n",
        "            break\n",
        "\n",
        "    return (\n",
        "        result,\n",
        "        _ContinuationToken(token, lang, country, sort, count, filter_score_with, filter_device_with)\n",
        "    )\n",
        "\n",
        "\n",
        "def reviews_all(app_id: str, sleep_milliseconds: int = 0, **kwargs) -> list:\n",
        "    kwargs.pop(\"count\", None)\n",
        "    kwargs.pop(\"continuation_token\", None)\n",
        "\n",
        "    continuation_token = None\n",
        "\n",
        "    result = []\n",
        "\n",
        "    while True:\n",
        "        _result, continuation_token = reviews(\n",
        "            app_id,\n",
        "            count=MAX_COUNT_EACH_FETCH,\n",
        "            continuation_token=continuation_token,\n",
        "            **kwargs\n",
        "        )\n",
        "\n",
        "        result += _result\n",
        "\n",
        "        if continuation_token.token is None:\n",
        "            break\n",
        "\n",
        "        if sleep_milliseconds:\n",
        "            sleep(sleep_milliseconds / 1000)\n",
        "\n",
        "    return result"
      ]
    },
    {
      "cell_type": "markdown",
      "metadata": {
        "id": "sAtCkO78dwwR"
      },
      "source": [
        "Data gathering, scrape 10000 data and export it in csv format."
      ]
    },
    {
      "cell_type": "code",
      "execution_count": null,
      "metadata": {
        "id": "MbaGetybgPHs"
      },
      "outputs": [],
      "source": [
        "import pandas as pd\n",
        "\n",
        "# App id aplikasi thread\n",
        "app_id = 'com.instagram.barcelona'\n",
        "\n",
        "# Menyimpan data ulasan\n",
        "all_reviews = []\n",
        "continuation_token = None\n",
        "reviews_count = 10000\n",
        "\n",
        "while len(all_reviews) < reviews_count:\n",
        "    new_result, continuation_token = reviews(\n",
        "        app_id,\n",
        "        continuation_token=continuation_token,\n",
        "        lang='id',\n",
        "        country='id',\n",
        "        sort=Sort.NEWEST,\n",
        "        filter_score_with=None,\n",
        "        count=200\n",
        "    )\n",
        "    if not new_result:\n",
        "        break\n",
        "    all_reviews.extend(new_result)\n",
        "\n",
        "# Membuat DataFrame dari ulasan\n",
        "reviews_df = pd.DataFrame(all_reviews)\n",
        "reviews_df.to_csv('threads_reviews_raw.csv', index=False, escapechar='\\\\')\n",
        "\n",
        "print(f'Ulasan telah disimpan ke threads_reviews_raw.csv dengan {len(all_reviews)} ulasan.')"
      ]
    },
    {
      "cell_type": "markdown",
      "metadata": {
        "id": "2HBboleypCsC"
      },
      "source": [
        "# Data Analysis"
      ]
    },
    {
      "cell_type": "code",
      "execution_count": 46,
      "metadata": {
        "id": "-y2qX5tVYuzP"
      },
      "outputs": [],
      "source": [
        "import pandas as pd\n",
        "import os\n",
        "\n",
        "# Memeriksa apakah berjalan di Google Colab\n",
        "try:\n",
        "    from google.colab import files\n",
        "    colab = True\n",
        "except ImportError:\n",
        "    colab = False"
      ]
    },
    {
      "cell_type": "code",
      "execution_count": 47,
      "metadata": {
        "id": "aCem0pgGBKDS"
      },
      "outputs": [],
      "source": [
        "# Hyperparameter\n",
        "EPOCHS = 100\n",
        "BATCH_SIZE = 32\n",
        "RANDOM_SEED = 42"
      ]
    },
    {
      "cell_type": "code",
      "execution_count": 48,
      "metadata": {
        "id": "lcTEYG3DZw-m"
      },
      "outputs": [],
      "source": [
        "import random\n",
        "import numpy as np\n",
        "import tensorflow as tf\n",
        "\n",
        "# Set random seed\n",
        "np.random.seed(RANDOM_SEED)\n",
        "tf.random.set_seed(RANDOM_SEED)\n",
        "random.seed(RANDOM_SEED)"
      ]
    },
    {
      "cell_type": "markdown",
      "metadata": {
        "id": "vn6SMkpsd4zo"
      },
      "source": [
        "Load data yang telah diexport dan tampilkan 5 data teratas untuk dianalisa."
      ]
    },
    {
      "cell_type": "code",
      "execution_count": 49,
      "metadata": {
        "colab": {
          "base_uri": "https://localhost:8080/",
          "height": 310
        },
        "id": "lkpTSaZVpCZx",
        "outputId": "49b2d9fa-4c8c-4a98-e354-c3e54133aa49"
      },
      "outputs": [
        {
          "output_type": "stream",
          "name": "stdout",
          "text": [
            "File 'threads_reviews_raw.csv' berhasil dimuat.\n"
          ]
        },
        {
          "output_type": "execute_result",
          "data": {
            "text/plain": [
              "                               reviewId          userName  \\\n",
              "0  7ea65f64-bd3b-4aff-93a1-39e8b36891cb      Mujib jibun2   \n",
              "1  7265cb8a-4561-406a-8a5f-76706afe1781        Ali Alvaro   \n",
              "2  dc50a966-03f2-4811-a8f0-8b163ca2f978         Pras Tian   \n",
              "3  f1447506-380b-4c38-bcfb-a8a1fabfab48      Heru Wahyudi   \n",
              "4  75923e39-7926-464e-a2ab-39101bd61acd  Jansen Tempomisa   \n",
              "\n",
              "                                           userImage  \\\n",
              "0  https://play-lh.googleusercontent.com/a-/ALV-U...   \n",
              "1  https://play-lh.googleusercontent.com/a-/ALV-U...   \n",
              "2  https://play-lh.googleusercontent.com/a-/ALV-U...   \n",
              "3  https://play-lh.googleusercontent.com/a-/ALV-U...   \n",
              "4  https://play-lh.googleusercontent.com/a-/ALV-U...   \n",
              "\n",
              "                                             content  score  thumbsUpCount  \\\n",
              "0  sangat membantu tuk saling mengenal walaupun b...      3              1   \n",
              "1                                             mantap      5              1   \n",
              "2                 Udah baru suruh perbarui lagi anjg      1              1   \n",
              "3                                              Bagus      5              0   \n",
              "4                aplikasinya mirip-mirip Instagram👍🏻      1              1   \n",
              "\n",
              "  reviewCreatedVersion                   at  replyContent  repliedAt  \\\n",
              "0                  NaN  2024-05-27 17:24:26           NaN        NaN   \n",
              "1       332.0.0.34.109  2024-05-27 16:28:29           NaN        NaN   \n",
              "2       332.0.0.34.109  2024-05-27 15:52:27           NaN        NaN   \n",
              "3                  NaN  2024-05-27 13:47:23           NaN        NaN   \n",
              "4       332.0.0.34.109  2024-05-27 13:36:23           NaN        NaN   \n",
              "\n",
              "       appVersion  \n",
              "0             NaN  \n",
              "1  332.0.0.34.109  \n",
              "2  332.0.0.34.109  \n",
              "3             NaN  \n",
              "4  332.0.0.34.109  "
            ],
            "text/html": [
              "\n",
              "  <div id=\"df-e5c61975-72b4-4f05-ad3b-f7c10b5e43e0\" class=\"colab-df-container\">\n",
              "    <div>\n",
              "<style scoped>\n",
              "    .dataframe tbody tr th:only-of-type {\n",
              "        vertical-align: middle;\n",
              "    }\n",
              "\n",
              "    .dataframe tbody tr th {\n",
              "        vertical-align: top;\n",
              "    }\n",
              "\n",
              "    .dataframe thead th {\n",
              "        text-align: right;\n",
              "    }\n",
              "</style>\n",
              "<table border=\"1\" class=\"dataframe\">\n",
              "  <thead>\n",
              "    <tr style=\"text-align: right;\">\n",
              "      <th></th>\n",
              "      <th>reviewId</th>\n",
              "      <th>userName</th>\n",
              "      <th>userImage</th>\n",
              "      <th>content</th>\n",
              "      <th>score</th>\n",
              "      <th>thumbsUpCount</th>\n",
              "      <th>reviewCreatedVersion</th>\n",
              "      <th>at</th>\n",
              "      <th>replyContent</th>\n",
              "      <th>repliedAt</th>\n",
              "      <th>appVersion</th>\n",
              "    </tr>\n",
              "  </thead>\n",
              "  <tbody>\n",
              "    <tr>\n",
              "      <th>0</th>\n",
              "      <td>7ea65f64-bd3b-4aff-93a1-39e8b36891cb</td>\n",
              "      <td>Mujib jibun2</td>\n",
              "      <td>https://play-lh.googleusercontent.com/a-/ALV-U...</td>\n",
              "      <td>sangat membantu tuk saling mengenal walaupun b...</td>\n",
              "      <td>3</td>\n",
              "      <td>1</td>\n",
              "      <td>NaN</td>\n",
              "      <td>2024-05-27 17:24:26</td>\n",
              "      <td>NaN</td>\n",
              "      <td>NaN</td>\n",
              "      <td>NaN</td>\n",
              "    </tr>\n",
              "    <tr>\n",
              "      <th>1</th>\n",
              "      <td>7265cb8a-4561-406a-8a5f-76706afe1781</td>\n",
              "      <td>Ali Alvaro</td>\n",
              "      <td>https://play-lh.googleusercontent.com/a-/ALV-U...</td>\n",
              "      <td>mantap</td>\n",
              "      <td>5</td>\n",
              "      <td>1</td>\n",
              "      <td>332.0.0.34.109</td>\n",
              "      <td>2024-05-27 16:28:29</td>\n",
              "      <td>NaN</td>\n",
              "      <td>NaN</td>\n",
              "      <td>332.0.0.34.109</td>\n",
              "    </tr>\n",
              "    <tr>\n",
              "      <th>2</th>\n",
              "      <td>dc50a966-03f2-4811-a8f0-8b163ca2f978</td>\n",
              "      <td>Pras Tian</td>\n",
              "      <td>https://play-lh.googleusercontent.com/a-/ALV-U...</td>\n",
              "      <td>Udah baru suruh perbarui lagi anjg</td>\n",
              "      <td>1</td>\n",
              "      <td>1</td>\n",
              "      <td>332.0.0.34.109</td>\n",
              "      <td>2024-05-27 15:52:27</td>\n",
              "      <td>NaN</td>\n",
              "      <td>NaN</td>\n",
              "      <td>332.0.0.34.109</td>\n",
              "    </tr>\n",
              "    <tr>\n",
              "      <th>3</th>\n",
              "      <td>f1447506-380b-4c38-bcfb-a8a1fabfab48</td>\n",
              "      <td>Heru Wahyudi</td>\n",
              "      <td>https://play-lh.googleusercontent.com/a-/ALV-U...</td>\n",
              "      <td>Bagus</td>\n",
              "      <td>5</td>\n",
              "      <td>0</td>\n",
              "      <td>NaN</td>\n",
              "      <td>2024-05-27 13:47:23</td>\n",
              "      <td>NaN</td>\n",
              "      <td>NaN</td>\n",
              "      <td>NaN</td>\n",
              "    </tr>\n",
              "    <tr>\n",
              "      <th>4</th>\n",
              "      <td>75923e39-7926-464e-a2ab-39101bd61acd</td>\n",
              "      <td>Jansen Tempomisa</td>\n",
              "      <td>https://play-lh.googleusercontent.com/a-/ALV-U...</td>\n",
              "      <td>aplikasinya mirip-mirip Instagram👍🏻</td>\n",
              "      <td>1</td>\n",
              "      <td>1</td>\n",
              "      <td>332.0.0.34.109</td>\n",
              "      <td>2024-05-27 13:36:23</td>\n",
              "      <td>NaN</td>\n",
              "      <td>NaN</td>\n",
              "      <td>332.0.0.34.109</td>\n",
              "    </tr>\n",
              "  </tbody>\n",
              "</table>\n",
              "</div>\n",
              "    <div class=\"colab-df-buttons\">\n",
              "\n",
              "  <div class=\"colab-df-container\">\n",
              "    <button class=\"colab-df-convert\" onclick=\"convertToInteractive('df-e5c61975-72b4-4f05-ad3b-f7c10b5e43e0')\"\n",
              "            title=\"Convert this dataframe to an interactive table.\"\n",
              "            style=\"display:none;\">\n",
              "\n",
              "  <svg xmlns=\"http://www.w3.org/2000/svg\" height=\"24px\" viewBox=\"0 -960 960 960\">\n",
              "    <path d=\"M120-120v-720h720v720H120Zm60-500h600v-160H180v160Zm220 220h160v-160H400v160Zm0 220h160v-160H400v160ZM180-400h160v-160H180v160Zm440 0h160v-160H620v160ZM180-180h160v-160H180v160Zm440 0h160v-160H620v160Z\"/>\n",
              "  </svg>\n",
              "    </button>\n",
              "\n",
              "  <style>\n",
              "    .colab-df-container {\n",
              "      display:flex;\n",
              "      gap: 12px;\n",
              "    }\n",
              "\n",
              "    .colab-df-convert {\n",
              "      background-color: #E8F0FE;\n",
              "      border: none;\n",
              "      border-radius: 50%;\n",
              "      cursor: pointer;\n",
              "      display: none;\n",
              "      fill: #1967D2;\n",
              "      height: 32px;\n",
              "      padding: 0 0 0 0;\n",
              "      width: 32px;\n",
              "    }\n",
              "\n",
              "    .colab-df-convert:hover {\n",
              "      background-color: #E2EBFA;\n",
              "      box-shadow: 0px 1px 2px rgba(60, 64, 67, 0.3), 0px 1px 3px 1px rgba(60, 64, 67, 0.15);\n",
              "      fill: #174EA6;\n",
              "    }\n",
              "\n",
              "    .colab-df-buttons div {\n",
              "      margin-bottom: 4px;\n",
              "    }\n",
              "\n",
              "    [theme=dark] .colab-df-convert {\n",
              "      background-color: #3B4455;\n",
              "      fill: #D2E3FC;\n",
              "    }\n",
              "\n",
              "    [theme=dark] .colab-df-convert:hover {\n",
              "      background-color: #434B5C;\n",
              "      box-shadow: 0px 1px 3px 1px rgba(0, 0, 0, 0.15);\n",
              "      filter: drop-shadow(0px 1px 2px rgba(0, 0, 0, 0.3));\n",
              "      fill: #FFFFFF;\n",
              "    }\n",
              "  </style>\n",
              "\n",
              "    <script>\n",
              "      const buttonEl =\n",
              "        document.querySelector('#df-e5c61975-72b4-4f05-ad3b-f7c10b5e43e0 button.colab-df-convert');\n",
              "      buttonEl.style.display =\n",
              "        google.colab.kernel.accessAllowed ? 'block' : 'none';\n",
              "\n",
              "      async function convertToInteractive(key) {\n",
              "        const element = document.querySelector('#df-e5c61975-72b4-4f05-ad3b-f7c10b5e43e0');\n",
              "        const dataTable =\n",
              "          await google.colab.kernel.invokeFunction('convertToInteractive',\n",
              "                                                    [key], {});\n",
              "        if (!dataTable) return;\n",
              "\n",
              "        const docLinkHtml = 'Like what you see? Visit the ' +\n",
              "          '<a target=\"_blank\" href=https://colab.research.google.com/notebooks/data_table.ipynb>data table notebook</a>'\n",
              "          + ' to learn more about interactive tables.';\n",
              "        element.innerHTML = '';\n",
              "        dataTable['output_type'] = 'display_data';\n",
              "        await google.colab.output.renderOutput(dataTable, element);\n",
              "        const docLink = document.createElement('div');\n",
              "        docLink.innerHTML = docLinkHtml;\n",
              "        element.appendChild(docLink);\n",
              "      }\n",
              "    </script>\n",
              "  </div>\n",
              "\n",
              "\n",
              "<div id=\"df-bf7b5b04-717e-481e-ac26-1d96eaf94353\">\n",
              "  <button class=\"colab-df-quickchart\" onclick=\"quickchart('df-bf7b5b04-717e-481e-ac26-1d96eaf94353')\"\n",
              "            title=\"Suggest charts\"\n",
              "            style=\"display:none;\">\n",
              "\n",
              "<svg xmlns=\"http://www.w3.org/2000/svg\" height=\"24px\"viewBox=\"0 0 24 24\"\n",
              "     width=\"24px\">\n",
              "    <g>\n",
              "        <path d=\"M19 3H5c-1.1 0-2 .9-2 2v14c0 1.1.9 2 2 2h14c1.1 0 2-.9 2-2V5c0-1.1-.9-2-2-2zM9 17H7v-7h2v7zm4 0h-2V7h2v10zm4 0h-2v-4h2v4z\"/>\n",
              "    </g>\n",
              "</svg>\n",
              "  </button>\n",
              "\n",
              "<style>\n",
              "  .colab-df-quickchart {\n",
              "      --bg-color: #E8F0FE;\n",
              "      --fill-color: #1967D2;\n",
              "      --hover-bg-color: #E2EBFA;\n",
              "      --hover-fill-color: #174EA6;\n",
              "      --disabled-fill-color: #AAA;\n",
              "      --disabled-bg-color: #DDD;\n",
              "  }\n",
              "\n",
              "  [theme=dark] .colab-df-quickchart {\n",
              "      --bg-color: #3B4455;\n",
              "      --fill-color: #D2E3FC;\n",
              "      --hover-bg-color: #434B5C;\n",
              "      --hover-fill-color: #FFFFFF;\n",
              "      --disabled-bg-color: #3B4455;\n",
              "      --disabled-fill-color: #666;\n",
              "  }\n",
              "\n",
              "  .colab-df-quickchart {\n",
              "    background-color: var(--bg-color);\n",
              "    border: none;\n",
              "    border-radius: 50%;\n",
              "    cursor: pointer;\n",
              "    display: none;\n",
              "    fill: var(--fill-color);\n",
              "    height: 32px;\n",
              "    padding: 0;\n",
              "    width: 32px;\n",
              "  }\n",
              "\n",
              "  .colab-df-quickchart:hover {\n",
              "    background-color: var(--hover-bg-color);\n",
              "    box-shadow: 0 1px 2px rgba(60, 64, 67, 0.3), 0 1px 3px 1px rgba(60, 64, 67, 0.15);\n",
              "    fill: var(--button-hover-fill-color);\n",
              "  }\n",
              "\n",
              "  .colab-df-quickchart-complete:disabled,\n",
              "  .colab-df-quickchart-complete:disabled:hover {\n",
              "    background-color: var(--disabled-bg-color);\n",
              "    fill: var(--disabled-fill-color);\n",
              "    box-shadow: none;\n",
              "  }\n",
              "\n",
              "  .colab-df-spinner {\n",
              "    border: 2px solid var(--fill-color);\n",
              "    border-color: transparent;\n",
              "    border-bottom-color: var(--fill-color);\n",
              "    animation:\n",
              "      spin 1s steps(1) infinite;\n",
              "  }\n",
              "\n",
              "  @keyframes spin {\n",
              "    0% {\n",
              "      border-color: transparent;\n",
              "      border-bottom-color: var(--fill-color);\n",
              "      border-left-color: var(--fill-color);\n",
              "    }\n",
              "    20% {\n",
              "      border-color: transparent;\n",
              "      border-left-color: var(--fill-color);\n",
              "      border-top-color: var(--fill-color);\n",
              "    }\n",
              "    30% {\n",
              "      border-color: transparent;\n",
              "      border-left-color: var(--fill-color);\n",
              "      border-top-color: var(--fill-color);\n",
              "      border-right-color: var(--fill-color);\n",
              "    }\n",
              "    40% {\n",
              "      border-color: transparent;\n",
              "      border-right-color: var(--fill-color);\n",
              "      border-top-color: var(--fill-color);\n",
              "    }\n",
              "    60% {\n",
              "      border-color: transparent;\n",
              "      border-right-color: var(--fill-color);\n",
              "    }\n",
              "    80% {\n",
              "      border-color: transparent;\n",
              "      border-right-color: var(--fill-color);\n",
              "      border-bottom-color: var(--fill-color);\n",
              "    }\n",
              "    90% {\n",
              "      border-color: transparent;\n",
              "      border-bottom-color: var(--fill-color);\n",
              "    }\n",
              "  }\n",
              "</style>\n",
              "\n",
              "  <script>\n",
              "    async function quickchart(key) {\n",
              "      const quickchartButtonEl =\n",
              "        document.querySelector('#' + key + ' button');\n",
              "      quickchartButtonEl.disabled = true;  // To prevent multiple clicks.\n",
              "      quickchartButtonEl.classList.add('colab-df-spinner');\n",
              "      try {\n",
              "        const charts = await google.colab.kernel.invokeFunction(\n",
              "            'suggestCharts', [key], {});\n",
              "      } catch (error) {\n",
              "        console.error('Error during call to suggestCharts:', error);\n",
              "      }\n",
              "      quickchartButtonEl.classList.remove('colab-df-spinner');\n",
              "      quickchartButtonEl.classList.add('colab-df-quickchart-complete');\n",
              "    }\n",
              "    (() => {\n",
              "      let quickchartButtonEl =\n",
              "        document.querySelector('#df-bf7b5b04-717e-481e-ac26-1d96eaf94353 button');\n",
              "      quickchartButtonEl.style.display =\n",
              "        google.colab.kernel.accessAllowed ? 'block' : 'none';\n",
              "    })();\n",
              "  </script>\n",
              "</div>\n",
              "\n",
              "    </div>\n",
              "  </div>\n"
            ],
            "application/vnd.google.colaboratory.intrinsic+json": {
              "type": "dataframe",
              "variable_name": "df",
              "summary": "{\n  \"name\": \"df\",\n  \"rows\": 10000,\n  \"fields\": [\n    {\n      \"column\": \"reviewId\",\n      \"properties\": {\n        \"dtype\": \"category\",\n        \"num_unique_values\": 4229,\n        \"samples\": [\n          \"4673b762-5271-4d7d-9215-262cbcf5617b\",\n          \"1dd34a51-c42a-4aea-b9d5-9dc523e79b5e\",\n          \"2830ab7d-b1f8-4501-a6cd-e894d3095b30\"\n        ],\n        \"semantic_type\": \"\",\n        \"description\": \"\"\n      }\n    },\n    {\n      \"column\": \"userName\",\n      \"properties\": {\n        \"dtype\": \"category\",\n        \"num_unique_values\": 4213,\n        \"samples\": [\n          \"djalil palisoa\",\n          \"Ramles Channel\",\n          \"Alya Siddieqh\"\n        ],\n        \"semantic_type\": \"\",\n        \"description\": \"\"\n      }\n    },\n    {\n      \"column\": \"userImage\",\n      \"properties\": {\n        \"dtype\": \"category\",\n        \"num_unique_values\": 4228,\n        \"samples\": [\n          \"https://play-lh.googleusercontent.com/a-/ALV-UjV41XCYVo6OMf41Y9b-uDOT-haZ-0Ufg49oSbCHLL_alUMiG_RC\",\n          \"https://play-lh.googleusercontent.com/a/ACg8ocK0p5tkoW7AXAggcj78UnJB3lbLf8W6UgLjS9KzKA3__lEkWQ=mo\",\n          \"https://play-lh.googleusercontent.com/a-/ALV-UjXtrbUhqxfCH9-mIgH9Wl--3b-8ByAaTdXFHPnelDMt0EeByeas\"\n        ],\n        \"semantic_type\": \"\",\n        \"description\": \"\"\n      }\n    },\n    {\n      \"column\": \"content\",\n      \"properties\": {\n        \"dtype\": \"category\",\n        \"num_unique_values\": 3511,\n        \"samples\": [\n          \"gk ujung mk mmi l gh no v mtf\",\n          \"Keren juga\",\n          \"Tambahin fitur translate dongg....\"\n        ],\n        \"semantic_type\": \"\",\n        \"description\": \"\"\n      }\n    },\n    {\n      \"column\": \"score\",\n      \"properties\": {\n        \"dtype\": \"number\",\n        \"std\": 1,\n        \"min\": 1,\n        \"max\": 5,\n        \"num_unique_values\": 5,\n        \"samples\": [\n          5,\n          2,\n          1\n        ],\n        \"semantic_type\": \"\",\n        \"description\": \"\"\n      }\n    },\n    {\n      \"column\": \"thumbsUpCount\",\n      \"properties\": {\n        \"dtype\": \"number\",\n        \"std\": 72,\n        \"min\": 0,\n        \"max\": 1963,\n        \"num_unique_values\": 73,\n        \"samples\": [\n          10,\n          108,\n          749\n        ],\n        \"semantic_type\": \"\",\n        \"description\": \"\"\n      }\n    },\n    {\n      \"column\": \"reviewCreatedVersion\",\n      \"properties\": {\n        \"dtype\": \"category\",\n        \"num_unique_values\": 48,\n        \"samples\": [\n          \"313.0.0.0.36\",\n          \"311.0.0.26.108\",\n          \"313.0.0.23.326\"\n        ],\n        \"semantic_type\": \"\",\n        \"description\": \"\"\n      }\n    },\n    {\n      \"column\": \"at\",\n      \"properties\": {\n        \"dtype\": \"object\",\n        \"num_unique_values\": 4225,\n        \"samples\": [\n          \"2023-11-25 15:59:57\",\n          \"2023-08-07 07:48:28\",\n          \"2023-07-08 01:00:33\"\n        ],\n        \"semantic_type\": \"\",\n        \"description\": \"\"\n      }\n    },\n    {\n      \"column\": \"replyContent\",\n      \"properties\": {\n        \"dtype\": \"number\",\n        \"std\": null,\n        \"min\": null,\n        \"max\": null,\n        \"num_unique_values\": 0,\n        \"samples\": [],\n        \"semantic_type\": \"\",\n        \"description\": \"\"\n      }\n    },\n    {\n      \"column\": \"repliedAt\",\n      \"properties\": {\n        \"dtype\": \"number\",\n        \"std\": null,\n        \"min\": null,\n        \"max\": null,\n        \"num_unique_values\": 0,\n        \"samples\": [],\n        \"semantic_type\": \"\",\n        \"description\": \"\"\n      }\n    },\n    {\n      \"column\": \"appVersion\",\n      \"properties\": {\n        \"dtype\": \"category\",\n        \"num_unique_values\": 48,\n        \"samples\": [],\n        \"semantic_type\": \"\",\n        \"description\": \"\"\n      }\n    }\n  ]\n}"
            }
          },
          "metadata": {},
          "execution_count": 49
        }
      ],
      "source": [
        "# Mencoba membaca file CSV\n",
        "file_path = 'threads_reviews_raw.csv'\n",
        "\n",
        "try:\n",
        "    df = pd.read_csv(file_path)\n",
        "    print(f\"File '{file_path}' berhasil dimuat.\")\n",
        "except FileNotFoundError:\n",
        "    if colab:\n",
        "        print(f\"File '{file_path}' tidak ditemukan. Silakan unggah file.\")\n",
        "        uploaded = files.upload()\n",
        "        file_path = list(uploaded.keys())[0]\n",
        "        df = pd.read_csv(file_path)\n",
        "        print(f\"File '{file_path}' berhasil dimuat.\")\n",
        "    else:\n",
        "        print(f\"File '{file_path}' tidak ditemukan dan tidak berjalan di Google Colab. Silakan periksa jalur file.\")\n",
        "\n",
        "# Menampilkan 5 baris pertama dari dataframe\n",
        "df.head()"
      ]
    },
    {
      "cell_type": "code",
      "execution_count": 50,
      "metadata": {
        "colab": {
          "base_uri": "https://localhost:8080/"
        },
        "id": "xNWsUuERnUJ-",
        "outputId": "c2d16219-400f-4d8c-a369-42482a94faeb"
      },
      "outputs": [
        {
          "output_type": "stream",
          "name": "stdout",
          "text": [
            "Rentang tanggal ulasan adalah dari 2023-07-07 12:27:18 hingga 2024-05-27 17:24:26.\n"
          ]
        }
      ],
      "source": [
        "df['at'] = pd.to_datetime(df['at'])\n",
        "\n",
        "# Get tanggal paling awal dan paling akhir di kolom 'at'\n",
        "min_date = df['at'].min()\n",
        "max_date = df['at'].max()\n",
        "\n",
        "# Menampilkan rentang tanggal ulasan\n",
        "print(f\"Rentang tanggal ulasan adalah dari {min_date} hingga {max_date}.\")"
      ]
    },
    {
      "cell_type": "code",
      "execution_count": 51,
      "metadata": {
        "colab": {
          "base_uri": "https://localhost:8080/"
        },
        "id": "cDn4ZoqvDez0",
        "outputId": "23af3c13-75fa-4314-f240-536b2e3627ba"
      },
      "outputs": [
        {
          "output_type": "stream",
          "name": "stdout",
          "text": [
            "\n",
            "Jumlah nilai yang hilang di setiap kolom:\n",
            "reviewId                    0\n",
            "userName                    0\n",
            "userImage                   0\n",
            "content                     0\n",
            "score                       0\n",
            "thumbsUpCount               0\n",
            "reviewCreatedVersion     3399\n",
            "at                          0\n",
            "replyContent            10000\n",
            "repliedAt               10000\n",
            "appVersion               3399\n",
            "dtype: int64\n"
          ]
        }
      ],
      "source": [
        "# Memeriksa jumlah nilai yang hilang (missing values) di setiap kolom\n",
        "print(\"\\nJumlah nilai yang hilang di setiap kolom:\")\n",
        "print(df.isnull().sum())"
      ]
    },
    {
      "cell_type": "code",
      "execution_count": 52,
      "metadata": {
        "colab": {
          "base_uri": "https://localhost:8080/"
        },
        "id": "Al4EROWADkSH",
        "outputId": "8d3700a3-8a80-48ff-baac-19485e70490f"
      },
      "outputs": [
        {
          "output_type": "stream",
          "name": "stdout",
          "text": [
            "\n",
            "Jumlah nilai duplikat:\n",
            "6489\n"
          ]
        }
      ],
      "source": [
        "# Memeriksa jumlah nilai duplikat\n",
        "print(\"\\nJumlah nilai duplikat:\")\n",
        "print(df['content'].duplicated().sum())"
      ]
    },
    {
      "cell_type": "markdown",
      "metadata": {
        "id": "38sjUOAEDqxx"
      },
      "source": [
        "# Data Pre-processing"
      ]
    },
    {
      "cell_type": "markdown",
      "metadata": {
        "id": "OcOZ0Jddl6-r"
      },
      "source": [
        "Karena kita melakukan tugas Sentiment Analysis, maka kita hanya membutuhkan teks komentar pengguna dan score ratingnya. Dimana skor rating akan dipetakan kedalam 3 kategori yaitu, positif, netral, dan negatif."
      ]
    },
    {
      "cell_type": "code",
      "execution_count": 53,
      "metadata": {
        "colab": {
          "base_uri": "https://localhost:8080/",
          "height": 206
        },
        "id": "wml2SaLKnVHU",
        "outputId": "ee6eb123-fafd-429b-ac93-ac005b17db27"
      },
      "outputs": [
        {
          "output_type": "execute_result",
          "data": {
            "text/plain": [
              "                                             content  score\n",
              "0  sangat membantu tuk saling mengenal walaupun b...      3\n",
              "1                                             mantap      5\n",
              "2                 Udah baru suruh perbarui lagi anjg      1\n",
              "3                                              Bagus      5\n",
              "4                aplikasinya mirip-mirip Instagram👍🏻      1"
            ],
            "text/html": [
              "\n",
              "  <div id=\"df-662c3741-7fec-46d4-9635-f556d93120c7\" class=\"colab-df-container\">\n",
              "    <div>\n",
              "<style scoped>\n",
              "    .dataframe tbody tr th:only-of-type {\n",
              "        vertical-align: middle;\n",
              "    }\n",
              "\n",
              "    .dataframe tbody tr th {\n",
              "        vertical-align: top;\n",
              "    }\n",
              "\n",
              "    .dataframe thead th {\n",
              "        text-align: right;\n",
              "    }\n",
              "</style>\n",
              "<table border=\"1\" class=\"dataframe\">\n",
              "  <thead>\n",
              "    <tr style=\"text-align: right;\">\n",
              "      <th></th>\n",
              "      <th>content</th>\n",
              "      <th>score</th>\n",
              "    </tr>\n",
              "  </thead>\n",
              "  <tbody>\n",
              "    <tr>\n",
              "      <th>0</th>\n",
              "      <td>sangat membantu tuk saling mengenal walaupun b...</td>\n",
              "      <td>3</td>\n",
              "    </tr>\n",
              "    <tr>\n",
              "      <th>1</th>\n",
              "      <td>mantap</td>\n",
              "      <td>5</td>\n",
              "    </tr>\n",
              "    <tr>\n",
              "      <th>2</th>\n",
              "      <td>Udah baru suruh perbarui lagi anjg</td>\n",
              "      <td>1</td>\n",
              "    </tr>\n",
              "    <tr>\n",
              "      <th>3</th>\n",
              "      <td>Bagus</td>\n",
              "      <td>5</td>\n",
              "    </tr>\n",
              "    <tr>\n",
              "      <th>4</th>\n",
              "      <td>aplikasinya mirip-mirip Instagram👍🏻</td>\n",
              "      <td>1</td>\n",
              "    </tr>\n",
              "  </tbody>\n",
              "</table>\n",
              "</div>\n",
              "    <div class=\"colab-df-buttons\">\n",
              "\n",
              "  <div class=\"colab-df-container\">\n",
              "    <button class=\"colab-df-convert\" onclick=\"convertToInteractive('df-662c3741-7fec-46d4-9635-f556d93120c7')\"\n",
              "            title=\"Convert this dataframe to an interactive table.\"\n",
              "            style=\"display:none;\">\n",
              "\n",
              "  <svg xmlns=\"http://www.w3.org/2000/svg\" height=\"24px\" viewBox=\"0 -960 960 960\">\n",
              "    <path d=\"M120-120v-720h720v720H120Zm60-500h600v-160H180v160Zm220 220h160v-160H400v160Zm0 220h160v-160H400v160ZM180-400h160v-160H180v160Zm440 0h160v-160H620v160ZM180-180h160v-160H180v160Zm440 0h160v-160H620v160Z\"/>\n",
              "  </svg>\n",
              "    </button>\n",
              "\n",
              "  <style>\n",
              "    .colab-df-container {\n",
              "      display:flex;\n",
              "      gap: 12px;\n",
              "    }\n",
              "\n",
              "    .colab-df-convert {\n",
              "      background-color: #E8F0FE;\n",
              "      border: none;\n",
              "      border-radius: 50%;\n",
              "      cursor: pointer;\n",
              "      display: none;\n",
              "      fill: #1967D2;\n",
              "      height: 32px;\n",
              "      padding: 0 0 0 0;\n",
              "      width: 32px;\n",
              "    }\n",
              "\n",
              "    .colab-df-convert:hover {\n",
              "      background-color: #E2EBFA;\n",
              "      box-shadow: 0px 1px 2px rgba(60, 64, 67, 0.3), 0px 1px 3px 1px rgba(60, 64, 67, 0.15);\n",
              "      fill: #174EA6;\n",
              "    }\n",
              "\n",
              "    .colab-df-buttons div {\n",
              "      margin-bottom: 4px;\n",
              "    }\n",
              "\n",
              "    [theme=dark] .colab-df-convert {\n",
              "      background-color: #3B4455;\n",
              "      fill: #D2E3FC;\n",
              "    }\n",
              "\n",
              "    [theme=dark] .colab-df-convert:hover {\n",
              "      background-color: #434B5C;\n",
              "      box-shadow: 0px 1px 3px 1px rgba(0, 0, 0, 0.15);\n",
              "      filter: drop-shadow(0px 1px 2px rgba(0, 0, 0, 0.3));\n",
              "      fill: #FFFFFF;\n",
              "    }\n",
              "  </style>\n",
              "\n",
              "    <script>\n",
              "      const buttonEl =\n",
              "        document.querySelector('#df-662c3741-7fec-46d4-9635-f556d93120c7 button.colab-df-convert');\n",
              "      buttonEl.style.display =\n",
              "        google.colab.kernel.accessAllowed ? 'block' : 'none';\n",
              "\n",
              "      async function convertToInteractive(key) {\n",
              "        const element = document.querySelector('#df-662c3741-7fec-46d4-9635-f556d93120c7');\n",
              "        const dataTable =\n",
              "          await google.colab.kernel.invokeFunction('convertToInteractive',\n",
              "                                                    [key], {});\n",
              "        if (!dataTable) return;\n",
              "\n",
              "        const docLinkHtml = 'Like what you see? Visit the ' +\n",
              "          '<a target=\"_blank\" href=https://colab.research.google.com/notebooks/data_table.ipynb>data table notebook</a>'\n",
              "          + ' to learn more about interactive tables.';\n",
              "        element.innerHTML = '';\n",
              "        dataTable['output_type'] = 'display_data';\n",
              "        await google.colab.output.renderOutput(dataTable, element);\n",
              "        const docLink = document.createElement('div');\n",
              "        docLink.innerHTML = docLinkHtml;\n",
              "        element.appendChild(docLink);\n",
              "      }\n",
              "    </script>\n",
              "  </div>\n",
              "\n",
              "\n",
              "<div id=\"df-69c1325c-5c4a-4278-aed9-4730b2357f5f\">\n",
              "  <button class=\"colab-df-quickchart\" onclick=\"quickchart('df-69c1325c-5c4a-4278-aed9-4730b2357f5f')\"\n",
              "            title=\"Suggest charts\"\n",
              "            style=\"display:none;\">\n",
              "\n",
              "<svg xmlns=\"http://www.w3.org/2000/svg\" height=\"24px\"viewBox=\"0 0 24 24\"\n",
              "     width=\"24px\">\n",
              "    <g>\n",
              "        <path d=\"M19 3H5c-1.1 0-2 .9-2 2v14c0 1.1.9 2 2 2h14c1.1 0 2-.9 2-2V5c0-1.1-.9-2-2-2zM9 17H7v-7h2v7zm4 0h-2V7h2v10zm4 0h-2v-4h2v4z\"/>\n",
              "    </g>\n",
              "</svg>\n",
              "  </button>\n",
              "\n",
              "<style>\n",
              "  .colab-df-quickchart {\n",
              "      --bg-color: #E8F0FE;\n",
              "      --fill-color: #1967D2;\n",
              "      --hover-bg-color: #E2EBFA;\n",
              "      --hover-fill-color: #174EA6;\n",
              "      --disabled-fill-color: #AAA;\n",
              "      --disabled-bg-color: #DDD;\n",
              "  }\n",
              "\n",
              "  [theme=dark] .colab-df-quickchart {\n",
              "      --bg-color: #3B4455;\n",
              "      --fill-color: #D2E3FC;\n",
              "      --hover-bg-color: #434B5C;\n",
              "      --hover-fill-color: #FFFFFF;\n",
              "      --disabled-bg-color: #3B4455;\n",
              "      --disabled-fill-color: #666;\n",
              "  }\n",
              "\n",
              "  .colab-df-quickchart {\n",
              "    background-color: var(--bg-color);\n",
              "    border: none;\n",
              "    border-radius: 50%;\n",
              "    cursor: pointer;\n",
              "    display: none;\n",
              "    fill: var(--fill-color);\n",
              "    height: 32px;\n",
              "    padding: 0;\n",
              "    width: 32px;\n",
              "  }\n",
              "\n",
              "  .colab-df-quickchart:hover {\n",
              "    background-color: var(--hover-bg-color);\n",
              "    box-shadow: 0 1px 2px rgba(60, 64, 67, 0.3), 0 1px 3px 1px rgba(60, 64, 67, 0.15);\n",
              "    fill: var(--button-hover-fill-color);\n",
              "  }\n",
              "\n",
              "  .colab-df-quickchart-complete:disabled,\n",
              "  .colab-df-quickchart-complete:disabled:hover {\n",
              "    background-color: var(--disabled-bg-color);\n",
              "    fill: var(--disabled-fill-color);\n",
              "    box-shadow: none;\n",
              "  }\n",
              "\n",
              "  .colab-df-spinner {\n",
              "    border: 2px solid var(--fill-color);\n",
              "    border-color: transparent;\n",
              "    border-bottom-color: var(--fill-color);\n",
              "    animation:\n",
              "      spin 1s steps(1) infinite;\n",
              "  }\n",
              "\n",
              "  @keyframes spin {\n",
              "    0% {\n",
              "      border-color: transparent;\n",
              "      border-bottom-color: var(--fill-color);\n",
              "      border-left-color: var(--fill-color);\n",
              "    }\n",
              "    20% {\n",
              "      border-color: transparent;\n",
              "      border-left-color: var(--fill-color);\n",
              "      border-top-color: var(--fill-color);\n",
              "    }\n",
              "    30% {\n",
              "      border-color: transparent;\n",
              "      border-left-color: var(--fill-color);\n",
              "      border-top-color: var(--fill-color);\n",
              "      border-right-color: var(--fill-color);\n",
              "    }\n",
              "    40% {\n",
              "      border-color: transparent;\n",
              "      border-right-color: var(--fill-color);\n",
              "      border-top-color: var(--fill-color);\n",
              "    }\n",
              "    60% {\n",
              "      border-color: transparent;\n",
              "      border-right-color: var(--fill-color);\n",
              "    }\n",
              "    80% {\n",
              "      border-color: transparent;\n",
              "      border-right-color: var(--fill-color);\n",
              "      border-bottom-color: var(--fill-color);\n",
              "    }\n",
              "    90% {\n",
              "      border-color: transparent;\n",
              "      border-bottom-color: var(--fill-color);\n",
              "    }\n",
              "  }\n",
              "</style>\n",
              "\n",
              "  <script>\n",
              "    async function quickchart(key) {\n",
              "      const quickchartButtonEl =\n",
              "        document.querySelector('#' + key + ' button');\n",
              "      quickchartButtonEl.disabled = true;  // To prevent multiple clicks.\n",
              "      quickchartButtonEl.classList.add('colab-df-spinner');\n",
              "      try {\n",
              "        const charts = await google.colab.kernel.invokeFunction(\n",
              "            'suggestCharts', [key], {});\n",
              "      } catch (error) {\n",
              "        console.error('Error during call to suggestCharts:', error);\n",
              "      }\n",
              "      quickchartButtonEl.classList.remove('colab-df-spinner');\n",
              "      quickchartButtonEl.classList.add('colab-df-quickchart-complete');\n",
              "    }\n",
              "    (() => {\n",
              "      let quickchartButtonEl =\n",
              "        document.querySelector('#df-69c1325c-5c4a-4278-aed9-4730b2357f5f button');\n",
              "      quickchartButtonEl.style.display =\n",
              "        google.colab.kernel.accessAllowed ? 'block' : 'none';\n",
              "    })();\n",
              "  </script>\n",
              "</div>\n",
              "\n",
              "    </div>\n",
              "  </div>\n"
            ],
            "application/vnd.google.colaboratory.intrinsic+json": {
              "type": "dataframe",
              "variable_name": "df",
              "summary": "{\n  \"name\": \"df\",\n  \"rows\": 10000,\n  \"fields\": [\n    {\n      \"column\": \"content\",\n      \"properties\": {\n        \"dtype\": \"category\",\n        \"num_unique_values\": 3511,\n        \"samples\": [\n          \"gk ujung mk mmi l gh no v mtf\",\n          \"Keren juga\",\n          \"Tambahin fitur translate dongg....\"\n        ],\n        \"semantic_type\": \"\",\n        \"description\": \"\"\n      }\n    },\n    {\n      \"column\": \"score\",\n      \"properties\": {\n        \"dtype\": \"number\",\n        \"std\": 1,\n        \"min\": 1,\n        \"max\": 5,\n        \"num_unique_values\": 5,\n        \"samples\": [\n          5,\n          2,\n          1\n        ],\n        \"semantic_type\": \"\",\n        \"description\": \"\"\n      }\n    }\n  ]\n}"
            }
          },
          "metadata": {},
          "execution_count": 53
        }
      ],
      "source": [
        "# Menyimpan hanya kolom 'content' dan 'score'\n",
        "df = df.loc[:, ['content', 'score']]\n",
        "df.head()"
      ]
    },
    {
      "cell_type": "code",
      "execution_count": 54,
      "metadata": {
        "colab": {
          "base_uri": "https://localhost:8080/"
        },
        "id": "S6kcy-RLFQRo",
        "outputId": "7d18359d-df22-4e22-c5cf-d37e1db43710"
      },
      "outputs": [
        {
          "output_type": "stream",
          "name": "stdout",
          "text": [
            "Requirement already satisfied: emoji in /usr/local/lib/python3.10/dist-packages (2.13.2)\n",
            "Requirement already satisfied: sastrawi in /usr/local/lib/python3.10/dist-packages (1.0.1)\n"
          ]
        }
      ],
      "source": [
        "# Install library emoji\n",
        "!pip install emoji\n",
        "!pip install sastrawi"
      ]
    },
    {
      "cell_type": "code",
      "execution_count": 55,
      "metadata": {
        "colab": {
          "base_uri": "https://localhost:8080/"
        },
        "id": "RUXtxvgPIO01",
        "outputId": "1eaaa6f5-680a-4932-cdc6-125a334374cc"
      },
      "outputs": [
        {
          "output_type": "stream",
          "name": "stderr",
          "text": [
            "[nltk_data] Downloading package punkt to /root/nltk_data...\n",
            "[nltk_data]   Package punkt is already up-to-date!\n",
            "[nltk_data] Downloading package stopwords to /root/nltk_data...\n",
            "[nltk_data]   Package stopwords is already up-to-date!\n"
          ]
        },
        {
          "output_type": "execute_result",
          "data": {
            "text/plain": [
              "True"
            ]
          },
          "metadata": {},
          "execution_count": 55
        }
      ],
      "source": [
        "import regex as re\n",
        "import string\n",
        "import emoji\n",
        "import nltk\n",
        "from nltk.corpus import stopwords\n",
        "from nltk.tokenize import word_tokenize\n",
        "from Sastrawi.Stemmer.StemmerFactory import StemmerFactory\n",
        "\n",
        "# Download data NLTK yang dibutuhkan\n",
        "nltk.download('punkt')\n",
        "nltk.download('stopwords')"
      ]
    },
    {
      "cell_type": "code",
      "execution_count": 56,
      "metadata": {
        "id": "Wwa4YBFHIS9j"
      },
      "outputs": [],
      "source": [
        "# Inisialisasi objek stemmer untuk Bahasa Indonesia\n",
        "factory = StemmerFactory()\n",
        "stemmer = factory.create_stemmer()\n",
        "\n",
        "# Definisikan stop words\n",
        "stop_words = set(stopwords.words('indonesian'))\n",
        "\n",
        "# Definisikan pola regex untuk mencocokkan karakter non-abjad dalam bahasa apa pun\n",
        "non_alphabetic_pattern = re.compile(r'[^\\p{L}\\s]')"
      ]
    },
    {
      "cell_type": "markdown",
      "metadata": {
        "id": "YACPkec-Jzym"
      },
      "source": [
        "Tahapan pembersihan teks, dimulai dari lowercasing/case folding, maping emoji ke deskripsi teks, menghapus tanda baca angka whitespace, dan lainnya."
      ]
    },
    {
      "cell_type": "markdown",
      "metadata": {
        "id": "7AsQ3U-2Z1E9"
      },
      "source": [
        "### 1. Mengubah Emoji"
      ]
    },
    {
      "cell_type": "code",
      "execution_count": 57,
      "metadata": {
        "id": "j0kmtqlNZ5tv"
      },
      "outputs": [],
      "source": [
        "# Ubah emoji dengan deskripsi teksnya\n",
        "df['content'] = df['content'].apply(lambda text: emoji.demojize(text, language='id'))\n",
        "df.head()\n",
        "\n",
        "# Menyimpan dataframe yang telah diproses ke file CSV baru\n",
        "df.to_csv('threads_reviews_mengubah_emoji.csv', index=False)"
      ]
    },
    {
      "cell_type": "markdown",
      "metadata": {
        "id": "0PUezIldZvXE"
      },
      "source": [
        "### 2. Case Folding"
      ]
    },
    {
      "cell_type": "code",
      "execution_count": 58,
      "metadata": {
        "id": "jyceF8_8EhMJ"
      },
      "outputs": [],
      "source": [
        "# Ubah teks menjadi huruf kecil\n",
        "df['content'] = df['content'].str.lower()\n",
        "df.head()\n",
        "\n",
        "# Menyimpan dataframe yang telah diproses ke file CSV baru\n",
        "df.to_csv('threads_reviews_case_folding.csv', index=False)"
      ]
    },
    {
      "cell_type": "markdown",
      "metadata": {
        "id": "5DZtKgpuZ7rb"
      },
      "source": [
        "### 3. Tokenisasi"
      ]
    },
    {
      "cell_type": "code",
      "execution_count": 59,
      "metadata": {
        "id": "oZlm-ciHZ-Yi"
      },
      "outputs": [],
      "source": [
        "# Tokenisasi\n",
        "df['content'] = df['content'].apply(word_tokenize)\n",
        "df.head()\n",
        "\n",
        "# Menyimpan dataframe yang telah diproses ke file CSV baru\n",
        "df.to_csv('threads_reviews_tokenisasi.csv', index=False)"
      ]
    },
    {
      "cell_type": "markdown",
      "metadata": {
        "id": "sPoHhsmcaA6c"
      },
      "source": [
        "### 4. Menghapus Stop Words"
      ]
    },
    {
      "cell_type": "code",
      "execution_count": 60,
      "metadata": {
        "id": "tBG1hD07aDCW"
      },
      "outputs": [],
      "source": [
        "# Proses penghapusan stop words\n",
        "df['content'] = df['content'].apply(lambda tokens: [word for word in tokens if word not in stop_words])\n",
        "df.head()\n",
        "\n",
        "# Menyimpan dataframe yang telah diproses ke file CSV baru\n",
        "df.to_csv('threads_reviews_stop_words.csv', index=False)"
      ]
    },
    {
      "cell_type": "markdown",
      "metadata": {
        "id": "qVWuOYQoaS6P"
      },
      "source": [
        "### 5. Stemming"
      ]
    },
    {
      "cell_type": "code",
      "execution_count": 61,
      "metadata": {
        "id": "l16UMZ70aRQt"
      },
      "outputs": [],
      "source": [
        "# Stemming dengan Sastrawi\n",
        "df['content'] = df['content'].apply(lambda tokens: [stemmer.stem(word) for word in tokens])\n",
        "df.head()\n",
        "\n",
        "# Menyimpan dataframe yang telah diproses ke file CSV baru\n",
        "df.to_csv('threads_reviews_stemming.csv', index=False)"
      ]
    },
    {
      "cell_type": "markdown",
      "metadata": {
        "id": "jYkzm0lrZoMb"
      },
      "source": [
        "### 6. Data Cleansing"
      ]
    },
    {
      "cell_type": "code",
      "execution_count": 62,
      "metadata": {
        "colab": {
          "base_uri": "https://localhost:8080/",
          "height": 206
        },
        "id": "ZKbQnrGUaXUW",
        "outputId": "e4c5d028-2609-42b2-86eb-790a41ec2702"
      },
      "outputs": [
        {
          "output_type": "execute_result",
          "data": {
            "text/plain": [
              "                                             content  score\n",
              "0                         bantu tuk kenal beda agama      3\n",
              "1                                             mantap      5\n",
              "2                               udah suruh baru anjg      1\n",
              "3                                              bagus      5\n",
              "4  aplikasi mirip instagram  jempol ke atas warna...      1"
            ],
            "text/html": [
              "\n",
              "  <div id=\"df-93d53b14-49b0-4254-ba8f-d873ffa4f7ef\" class=\"colab-df-container\">\n",
              "    <div>\n",
              "<style scoped>\n",
              "    .dataframe tbody tr th:only-of-type {\n",
              "        vertical-align: middle;\n",
              "    }\n",
              "\n",
              "    .dataframe tbody tr th {\n",
              "        vertical-align: top;\n",
              "    }\n",
              "\n",
              "    .dataframe thead th {\n",
              "        text-align: right;\n",
              "    }\n",
              "</style>\n",
              "<table border=\"1\" class=\"dataframe\">\n",
              "  <thead>\n",
              "    <tr style=\"text-align: right;\">\n",
              "      <th></th>\n",
              "      <th>content</th>\n",
              "      <th>score</th>\n",
              "    </tr>\n",
              "  </thead>\n",
              "  <tbody>\n",
              "    <tr>\n",
              "      <th>0</th>\n",
              "      <td>bantu tuk kenal beda agama</td>\n",
              "      <td>3</td>\n",
              "    </tr>\n",
              "    <tr>\n",
              "      <th>1</th>\n",
              "      <td>mantap</td>\n",
              "      <td>5</td>\n",
              "    </tr>\n",
              "    <tr>\n",
              "      <th>2</th>\n",
              "      <td>udah suruh baru anjg</td>\n",
              "      <td>1</td>\n",
              "    </tr>\n",
              "    <tr>\n",
              "      <th>3</th>\n",
              "      <td>bagus</td>\n",
              "      <td>5</td>\n",
              "    </tr>\n",
              "    <tr>\n",
              "      <th>4</th>\n",
              "      <td>aplikasi mirip instagram  jempol ke atas warna...</td>\n",
              "      <td>1</td>\n",
              "    </tr>\n",
              "  </tbody>\n",
              "</table>\n",
              "</div>\n",
              "    <div class=\"colab-df-buttons\">\n",
              "\n",
              "  <div class=\"colab-df-container\">\n",
              "    <button class=\"colab-df-convert\" onclick=\"convertToInteractive('df-93d53b14-49b0-4254-ba8f-d873ffa4f7ef')\"\n",
              "            title=\"Convert this dataframe to an interactive table.\"\n",
              "            style=\"display:none;\">\n",
              "\n",
              "  <svg xmlns=\"http://www.w3.org/2000/svg\" height=\"24px\" viewBox=\"0 -960 960 960\">\n",
              "    <path d=\"M120-120v-720h720v720H120Zm60-500h600v-160H180v160Zm220 220h160v-160H400v160Zm0 220h160v-160H400v160ZM180-400h160v-160H180v160Zm440 0h160v-160H620v160ZM180-180h160v-160H180v160Zm440 0h160v-160H620v160Z\"/>\n",
              "  </svg>\n",
              "    </button>\n",
              "\n",
              "  <style>\n",
              "    .colab-df-container {\n",
              "      display:flex;\n",
              "      gap: 12px;\n",
              "    }\n",
              "\n",
              "    .colab-df-convert {\n",
              "      background-color: #E8F0FE;\n",
              "      border: none;\n",
              "      border-radius: 50%;\n",
              "      cursor: pointer;\n",
              "      display: none;\n",
              "      fill: #1967D2;\n",
              "      height: 32px;\n",
              "      padding: 0 0 0 0;\n",
              "      width: 32px;\n",
              "    }\n",
              "\n",
              "    .colab-df-convert:hover {\n",
              "      background-color: #E2EBFA;\n",
              "      box-shadow: 0px 1px 2px rgba(60, 64, 67, 0.3), 0px 1px 3px 1px rgba(60, 64, 67, 0.15);\n",
              "      fill: #174EA6;\n",
              "    }\n",
              "\n",
              "    .colab-df-buttons div {\n",
              "      margin-bottom: 4px;\n",
              "    }\n",
              "\n",
              "    [theme=dark] .colab-df-convert {\n",
              "      background-color: #3B4455;\n",
              "      fill: #D2E3FC;\n",
              "    }\n",
              "\n",
              "    [theme=dark] .colab-df-convert:hover {\n",
              "      background-color: #434B5C;\n",
              "      box-shadow: 0px 1px 3px 1px rgba(0, 0, 0, 0.15);\n",
              "      filter: drop-shadow(0px 1px 2px rgba(0, 0, 0, 0.3));\n",
              "      fill: #FFFFFF;\n",
              "    }\n",
              "  </style>\n",
              "\n",
              "    <script>\n",
              "      const buttonEl =\n",
              "        document.querySelector('#df-93d53b14-49b0-4254-ba8f-d873ffa4f7ef button.colab-df-convert');\n",
              "      buttonEl.style.display =\n",
              "        google.colab.kernel.accessAllowed ? 'block' : 'none';\n",
              "\n",
              "      async function convertToInteractive(key) {\n",
              "        const element = document.querySelector('#df-93d53b14-49b0-4254-ba8f-d873ffa4f7ef');\n",
              "        const dataTable =\n",
              "          await google.colab.kernel.invokeFunction('convertToInteractive',\n",
              "                                                    [key], {});\n",
              "        if (!dataTable) return;\n",
              "\n",
              "        const docLinkHtml = 'Like what you see? Visit the ' +\n",
              "          '<a target=\"_blank\" href=https://colab.research.google.com/notebooks/data_table.ipynb>data table notebook</a>'\n",
              "          + ' to learn more about interactive tables.';\n",
              "        element.innerHTML = '';\n",
              "        dataTable['output_type'] = 'display_data';\n",
              "        await google.colab.output.renderOutput(dataTable, element);\n",
              "        const docLink = document.createElement('div');\n",
              "        docLink.innerHTML = docLinkHtml;\n",
              "        element.appendChild(docLink);\n",
              "      }\n",
              "    </script>\n",
              "  </div>\n",
              "\n",
              "\n",
              "<div id=\"df-45a24760-b89e-40fb-ab19-771236e96739\">\n",
              "  <button class=\"colab-df-quickchart\" onclick=\"quickchart('df-45a24760-b89e-40fb-ab19-771236e96739')\"\n",
              "            title=\"Suggest charts\"\n",
              "            style=\"display:none;\">\n",
              "\n",
              "<svg xmlns=\"http://www.w3.org/2000/svg\" height=\"24px\"viewBox=\"0 0 24 24\"\n",
              "     width=\"24px\">\n",
              "    <g>\n",
              "        <path d=\"M19 3H5c-1.1 0-2 .9-2 2v14c0 1.1.9 2 2 2h14c1.1 0 2-.9 2-2V5c0-1.1-.9-2-2-2zM9 17H7v-7h2v7zm4 0h-2V7h2v10zm4 0h-2v-4h2v4z\"/>\n",
              "    </g>\n",
              "</svg>\n",
              "  </button>\n",
              "\n",
              "<style>\n",
              "  .colab-df-quickchart {\n",
              "      --bg-color: #E8F0FE;\n",
              "      --fill-color: #1967D2;\n",
              "      --hover-bg-color: #E2EBFA;\n",
              "      --hover-fill-color: #174EA6;\n",
              "      --disabled-fill-color: #AAA;\n",
              "      --disabled-bg-color: #DDD;\n",
              "  }\n",
              "\n",
              "  [theme=dark] .colab-df-quickchart {\n",
              "      --bg-color: #3B4455;\n",
              "      --fill-color: #D2E3FC;\n",
              "      --hover-bg-color: #434B5C;\n",
              "      --hover-fill-color: #FFFFFF;\n",
              "      --disabled-bg-color: #3B4455;\n",
              "      --disabled-fill-color: #666;\n",
              "  }\n",
              "\n",
              "  .colab-df-quickchart {\n",
              "    background-color: var(--bg-color);\n",
              "    border: none;\n",
              "    border-radius: 50%;\n",
              "    cursor: pointer;\n",
              "    display: none;\n",
              "    fill: var(--fill-color);\n",
              "    height: 32px;\n",
              "    padding: 0;\n",
              "    width: 32px;\n",
              "  }\n",
              "\n",
              "  .colab-df-quickchart:hover {\n",
              "    background-color: var(--hover-bg-color);\n",
              "    box-shadow: 0 1px 2px rgba(60, 64, 67, 0.3), 0 1px 3px 1px rgba(60, 64, 67, 0.15);\n",
              "    fill: var(--button-hover-fill-color);\n",
              "  }\n",
              "\n",
              "  .colab-df-quickchart-complete:disabled,\n",
              "  .colab-df-quickchart-complete:disabled:hover {\n",
              "    background-color: var(--disabled-bg-color);\n",
              "    fill: var(--disabled-fill-color);\n",
              "    box-shadow: none;\n",
              "  }\n",
              "\n",
              "  .colab-df-spinner {\n",
              "    border: 2px solid var(--fill-color);\n",
              "    border-color: transparent;\n",
              "    border-bottom-color: var(--fill-color);\n",
              "    animation:\n",
              "      spin 1s steps(1) infinite;\n",
              "  }\n",
              "\n",
              "  @keyframes spin {\n",
              "    0% {\n",
              "      border-color: transparent;\n",
              "      border-bottom-color: var(--fill-color);\n",
              "      border-left-color: var(--fill-color);\n",
              "    }\n",
              "    20% {\n",
              "      border-color: transparent;\n",
              "      border-left-color: var(--fill-color);\n",
              "      border-top-color: var(--fill-color);\n",
              "    }\n",
              "    30% {\n",
              "      border-color: transparent;\n",
              "      border-left-color: var(--fill-color);\n",
              "      border-top-color: var(--fill-color);\n",
              "      border-right-color: var(--fill-color);\n",
              "    }\n",
              "    40% {\n",
              "      border-color: transparent;\n",
              "      border-right-color: var(--fill-color);\n",
              "      border-top-color: var(--fill-color);\n",
              "    }\n",
              "    60% {\n",
              "      border-color: transparent;\n",
              "      border-right-color: var(--fill-color);\n",
              "    }\n",
              "    80% {\n",
              "      border-color: transparent;\n",
              "      border-right-color: var(--fill-color);\n",
              "      border-bottom-color: var(--fill-color);\n",
              "    }\n",
              "    90% {\n",
              "      border-color: transparent;\n",
              "      border-bottom-color: var(--fill-color);\n",
              "    }\n",
              "  }\n",
              "</style>\n",
              "\n",
              "  <script>\n",
              "    async function quickchart(key) {\n",
              "      const quickchartButtonEl =\n",
              "        document.querySelector('#' + key + ' button');\n",
              "      quickchartButtonEl.disabled = true;  // To prevent multiple clicks.\n",
              "      quickchartButtonEl.classList.add('colab-df-spinner');\n",
              "      try {\n",
              "        const charts = await google.colab.kernel.invokeFunction(\n",
              "            'suggestCharts', [key], {});\n",
              "      } catch (error) {\n",
              "        console.error('Error during call to suggestCharts:', error);\n",
              "      }\n",
              "      quickchartButtonEl.classList.remove('colab-df-spinner');\n",
              "      quickchartButtonEl.classList.add('colab-df-quickchart-complete');\n",
              "    }\n",
              "    (() => {\n",
              "      let quickchartButtonEl =\n",
              "        document.querySelector('#df-45a24760-b89e-40fb-ab19-771236e96739 button');\n",
              "      quickchartButtonEl.style.display =\n",
              "        google.colab.kernel.accessAllowed ? 'block' : 'none';\n",
              "    })();\n",
              "  </script>\n",
              "</div>\n",
              "\n",
              "    </div>\n",
              "  </div>\n"
            ],
            "application/vnd.google.colaboratory.intrinsic+json": {
              "type": "dataframe",
              "variable_name": "df",
              "summary": "{\n  \"name\": \"df\",\n  \"rows\": 10000,\n  \"fields\": [\n    {\n      \"column\": \"content\",\n      \"properties\": {\n        \"dtype\": \"category\",\n        \"num_unique_values\": 3268,\n        \"samples\": [\n          \"bintang 5 kalo donlod foto ama vidio  wajah lega \",\n          \"batas tulis threads\",\n          \"bagus aplikasi\"\n        ],\n        \"semantic_type\": \"\",\n        \"description\": \"\"\n      }\n    },\n    {\n      \"column\": \"score\",\n      \"properties\": {\n        \"dtype\": \"number\",\n        \"std\": 1,\n        \"min\": 1,\n        \"max\": 5,\n        \"num_unique_values\": 5,\n        \"samples\": [\n          5,\n          2,\n          1\n        ],\n        \"semantic_type\": \"\",\n        \"description\": \"\"\n      }\n    }\n  ]\n}"
            }
          },
          "metadata": {},
          "execution_count": 62
        }
      ],
      "source": [
        "# Gabungkan kembali token menjadi satu string\n",
        "df['content'] = df['content'].apply(lambda tokens: ' '.join(tokens))\n",
        "df.head()"
      ]
    },
    {
      "cell_type": "code",
      "execution_count": 63,
      "metadata": {
        "colab": {
          "base_uri": "https://localhost:8080/",
          "height": 206
        },
        "id": "Lp4ZuWb5Zr72",
        "outputId": "901e01c7-2f5a-4e3a-eb31-df598dca6490"
      },
      "outputs": [
        {
          "output_type": "execute_result",
          "data": {
            "text/plain": [
              "                                             content  score\n",
              "0                         bantu tuk kenal beda agama      3\n",
              "1                                             mantap      5\n",
              "2                               udah suruh baru anjg      1\n",
              "3                                              bagus      5\n",
              "4  aplikasi mirip instagram  jempol ke atas warna...      1"
            ],
            "text/html": [
              "\n",
              "  <div id=\"df-985be323-7471-4a09-bb65-725ebdf7124f\" class=\"colab-df-container\">\n",
              "    <div>\n",
              "<style scoped>\n",
              "    .dataframe tbody tr th:only-of-type {\n",
              "        vertical-align: middle;\n",
              "    }\n",
              "\n",
              "    .dataframe tbody tr th {\n",
              "        vertical-align: top;\n",
              "    }\n",
              "\n",
              "    .dataframe thead th {\n",
              "        text-align: right;\n",
              "    }\n",
              "</style>\n",
              "<table border=\"1\" class=\"dataframe\">\n",
              "  <thead>\n",
              "    <tr style=\"text-align: right;\">\n",
              "      <th></th>\n",
              "      <th>content</th>\n",
              "      <th>score</th>\n",
              "    </tr>\n",
              "  </thead>\n",
              "  <tbody>\n",
              "    <tr>\n",
              "      <th>0</th>\n",
              "      <td>bantu tuk kenal beda agama</td>\n",
              "      <td>3</td>\n",
              "    </tr>\n",
              "    <tr>\n",
              "      <th>1</th>\n",
              "      <td>mantap</td>\n",
              "      <td>5</td>\n",
              "    </tr>\n",
              "    <tr>\n",
              "      <th>2</th>\n",
              "      <td>udah suruh baru anjg</td>\n",
              "      <td>1</td>\n",
              "    </tr>\n",
              "    <tr>\n",
              "      <th>3</th>\n",
              "      <td>bagus</td>\n",
              "      <td>5</td>\n",
              "    </tr>\n",
              "    <tr>\n",
              "      <th>4</th>\n",
              "      <td>aplikasi mirip instagram  jempol ke atas warna...</td>\n",
              "      <td>1</td>\n",
              "    </tr>\n",
              "  </tbody>\n",
              "</table>\n",
              "</div>\n",
              "    <div class=\"colab-df-buttons\">\n",
              "\n",
              "  <div class=\"colab-df-container\">\n",
              "    <button class=\"colab-df-convert\" onclick=\"convertToInteractive('df-985be323-7471-4a09-bb65-725ebdf7124f')\"\n",
              "            title=\"Convert this dataframe to an interactive table.\"\n",
              "            style=\"display:none;\">\n",
              "\n",
              "  <svg xmlns=\"http://www.w3.org/2000/svg\" height=\"24px\" viewBox=\"0 -960 960 960\">\n",
              "    <path d=\"M120-120v-720h720v720H120Zm60-500h600v-160H180v160Zm220 220h160v-160H400v160Zm0 220h160v-160H400v160ZM180-400h160v-160H180v160Zm440 0h160v-160H620v160ZM180-180h160v-160H180v160Zm440 0h160v-160H620v160Z\"/>\n",
              "  </svg>\n",
              "    </button>\n",
              "\n",
              "  <style>\n",
              "    .colab-df-container {\n",
              "      display:flex;\n",
              "      gap: 12px;\n",
              "    }\n",
              "\n",
              "    .colab-df-convert {\n",
              "      background-color: #E8F0FE;\n",
              "      border: none;\n",
              "      border-radius: 50%;\n",
              "      cursor: pointer;\n",
              "      display: none;\n",
              "      fill: #1967D2;\n",
              "      height: 32px;\n",
              "      padding: 0 0 0 0;\n",
              "      width: 32px;\n",
              "    }\n",
              "\n",
              "    .colab-df-convert:hover {\n",
              "      background-color: #E2EBFA;\n",
              "      box-shadow: 0px 1px 2px rgba(60, 64, 67, 0.3), 0px 1px 3px 1px rgba(60, 64, 67, 0.15);\n",
              "      fill: #174EA6;\n",
              "    }\n",
              "\n",
              "    .colab-df-buttons div {\n",
              "      margin-bottom: 4px;\n",
              "    }\n",
              "\n",
              "    [theme=dark] .colab-df-convert {\n",
              "      background-color: #3B4455;\n",
              "      fill: #D2E3FC;\n",
              "    }\n",
              "\n",
              "    [theme=dark] .colab-df-convert:hover {\n",
              "      background-color: #434B5C;\n",
              "      box-shadow: 0px 1px 3px 1px rgba(0, 0, 0, 0.15);\n",
              "      filter: drop-shadow(0px 1px 2px rgba(0, 0, 0, 0.3));\n",
              "      fill: #FFFFFF;\n",
              "    }\n",
              "  </style>\n",
              "\n",
              "    <script>\n",
              "      const buttonEl =\n",
              "        document.querySelector('#df-985be323-7471-4a09-bb65-725ebdf7124f button.colab-df-convert');\n",
              "      buttonEl.style.display =\n",
              "        google.colab.kernel.accessAllowed ? 'block' : 'none';\n",
              "\n",
              "      async function convertToInteractive(key) {\n",
              "        const element = document.querySelector('#df-985be323-7471-4a09-bb65-725ebdf7124f');\n",
              "        const dataTable =\n",
              "          await google.colab.kernel.invokeFunction('convertToInteractive',\n",
              "                                                    [key], {});\n",
              "        if (!dataTable) return;\n",
              "\n",
              "        const docLinkHtml = 'Like what you see? Visit the ' +\n",
              "          '<a target=\"_blank\" href=https://colab.research.google.com/notebooks/data_table.ipynb>data table notebook</a>'\n",
              "          + ' to learn more about interactive tables.';\n",
              "        element.innerHTML = '';\n",
              "        dataTable['output_type'] = 'display_data';\n",
              "        await google.colab.output.renderOutput(dataTable, element);\n",
              "        const docLink = document.createElement('div');\n",
              "        docLink.innerHTML = docLinkHtml;\n",
              "        element.appendChild(docLink);\n",
              "      }\n",
              "    </script>\n",
              "  </div>\n",
              "\n",
              "\n",
              "<div id=\"df-0b7498f6-1612-4e18-83f9-0671af7f0ae0\">\n",
              "  <button class=\"colab-df-quickchart\" onclick=\"quickchart('df-0b7498f6-1612-4e18-83f9-0671af7f0ae0')\"\n",
              "            title=\"Suggest charts\"\n",
              "            style=\"display:none;\">\n",
              "\n",
              "<svg xmlns=\"http://www.w3.org/2000/svg\" height=\"24px\"viewBox=\"0 0 24 24\"\n",
              "     width=\"24px\">\n",
              "    <g>\n",
              "        <path d=\"M19 3H5c-1.1 0-2 .9-2 2v14c0 1.1.9 2 2 2h14c1.1 0 2-.9 2-2V5c0-1.1-.9-2-2-2zM9 17H7v-7h2v7zm4 0h-2V7h2v10zm4 0h-2v-4h2v4z\"/>\n",
              "    </g>\n",
              "</svg>\n",
              "  </button>\n",
              "\n",
              "<style>\n",
              "  .colab-df-quickchart {\n",
              "      --bg-color: #E8F0FE;\n",
              "      --fill-color: #1967D2;\n",
              "      --hover-bg-color: #E2EBFA;\n",
              "      --hover-fill-color: #174EA6;\n",
              "      --disabled-fill-color: #AAA;\n",
              "      --disabled-bg-color: #DDD;\n",
              "  }\n",
              "\n",
              "  [theme=dark] .colab-df-quickchart {\n",
              "      --bg-color: #3B4455;\n",
              "      --fill-color: #D2E3FC;\n",
              "      --hover-bg-color: #434B5C;\n",
              "      --hover-fill-color: #FFFFFF;\n",
              "      --disabled-bg-color: #3B4455;\n",
              "      --disabled-fill-color: #666;\n",
              "  }\n",
              "\n",
              "  .colab-df-quickchart {\n",
              "    background-color: var(--bg-color);\n",
              "    border: none;\n",
              "    border-radius: 50%;\n",
              "    cursor: pointer;\n",
              "    display: none;\n",
              "    fill: var(--fill-color);\n",
              "    height: 32px;\n",
              "    padding: 0;\n",
              "    width: 32px;\n",
              "  }\n",
              "\n",
              "  .colab-df-quickchart:hover {\n",
              "    background-color: var(--hover-bg-color);\n",
              "    box-shadow: 0 1px 2px rgba(60, 64, 67, 0.3), 0 1px 3px 1px rgba(60, 64, 67, 0.15);\n",
              "    fill: var(--button-hover-fill-color);\n",
              "  }\n",
              "\n",
              "  .colab-df-quickchart-complete:disabled,\n",
              "  .colab-df-quickchart-complete:disabled:hover {\n",
              "    background-color: var(--disabled-bg-color);\n",
              "    fill: var(--disabled-fill-color);\n",
              "    box-shadow: none;\n",
              "  }\n",
              "\n",
              "  .colab-df-spinner {\n",
              "    border: 2px solid var(--fill-color);\n",
              "    border-color: transparent;\n",
              "    border-bottom-color: var(--fill-color);\n",
              "    animation:\n",
              "      spin 1s steps(1) infinite;\n",
              "  }\n",
              "\n",
              "  @keyframes spin {\n",
              "    0% {\n",
              "      border-color: transparent;\n",
              "      border-bottom-color: var(--fill-color);\n",
              "      border-left-color: var(--fill-color);\n",
              "    }\n",
              "    20% {\n",
              "      border-color: transparent;\n",
              "      border-left-color: var(--fill-color);\n",
              "      border-top-color: var(--fill-color);\n",
              "    }\n",
              "    30% {\n",
              "      border-color: transparent;\n",
              "      border-left-color: var(--fill-color);\n",
              "      border-top-color: var(--fill-color);\n",
              "      border-right-color: var(--fill-color);\n",
              "    }\n",
              "    40% {\n",
              "      border-color: transparent;\n",
              "      border-right-color: var(--fill-color);\n",
              "      border-top-color: var(--fill-color);\n",
              "    }\n",
              "    60% {\n",
              "      border-color: transparent;\n",
              "      border-right-color: var(--fill-color);\n",
              "    }\n",
              "    80% {\n",
              "      border-color: transparent;\n",
              "      border-right-color: var(--fill-color);\n",
              "      border-bottom-color: var(--fill-color);\n",
              "    }\n",
              "    90% {\n",
              "      border-color: transparent;\n",
              "      border-bottom-color: var(--fill-color);\n",
              "    }\n",
              "  }\n",
              "</style>\n",
              "\n",
              "  <script>\n",
              "    async function quickchart(key) {\n",
              "      const quickchartButtonEl =\n",
              "        document.querySelector('#' + key + ' button');\n",
              "      quickchartButtonEl.disabled = true;  // To prevent multiple clicks.\n",
              "      quickchartButtonEl.classList.add('colab-df-spinner');\n",
              "      try {\n",
              "        const charts = await google.colab.kernel.invokeFunction(\n",
              "            'suggestCharts', [key], {});\n",
              "      } catch (error) {\n",
              "        console.error('Error during call to suggestCharts:', error);\n",
              "      }\n",
              "      quickchartButtonEl.classList.remove('colab-df-spinner');\n",
              "      quickchartButtonEl.classList.add('colab-df-quickchart-complete');\n",
              "    }\n",
              "    (() => {\n",
              "      let quickchartButtonEl =\n",
              "        document.querySelector('#df-0b7498f6-1612-4e18-83f9-0671af7f0ae0 button');\n",
              "      quickchartButtonEl.style.display =\n",
              "        google.colab.kernel.accessAllowed ? 'block' : 'none';\n",
              "    })();\n",
              "  </script>\n",
              "</div>\n",
              "\n",
              "    </div>\n",
              "  </div>\n"
            ],
            "application/vnd.google.colaboratory.intrinsic+json": {
              "type": "dataframe",
              "variable_name": "df",
              "summary": "{\n  \"name\": \"df\",\n  \"rows\": 10000,\n  \"fields\": [\n    {\n      \"column\": \"content\",\n      \"properties\": {\n        \"dtype\": \"category\",\n        \"num_unique_values\": 3219,\n        \"samples\": [\n          \"guna sambat postingan related\",\n          \"tambah fitur dm story  tambakan fitur musik\",\n          \"beranda gw isi bacot selebgram smua  pdhl gw ga follow  bikin males aja pake aplikasi\"\n        ],\n        \"semantic_type\": \"\",\n        \"description\": \"\"\n      }\n    },\n    {\n      \"column\": \"score\",\n      \"properties\": {\n        \"dtype\": \"number\",\n        \"std\": 1,\n        \"min\": 1,\n        \"max\": 5,\n        \"num_unique_values\": 5,\n        \"samples\": [\n          5,\n          2,\n          1\n        ],\n        \"semantic_type\": \"\",\n        \"description\": \"\"\n      }\n    }\n  ]\n}"
            }
          },
          "metadata": {},
          "execution_count": 63
        }
      ],
      "source": [
        "# Hapus karakter non-abjad\n",
        "df['content'] = df['content'].apply(lambda text: re.sub(non_alphabetic_pattern, ' ', text))\n",
        "\n",
        "# Hapus tanda baca\n",
        "df['content'] = df['content'].apply(lambda text: text.translate(str.maketrans(string.punctuation, ' ' * len(string.punctuation))))\n",
        "\n",
        "# Hapus angka\n",
        "df['content'] = df['content'].apply(lambda text: re.sub(r'\\d+', ' ', text))\n",
        "\n",
        "# Hapus whitespace tambahan\n",
        "df['content'] = df['content'].str.strip()\n",
        "\n",
        "df.head()"
      ]
    },
    {
      "cell_type": "code",
      "execution_count": 64,
      "metadata": {
        "colab": {
          "base_uri": "https://localhost:8080/"
        },
        "id": "ykXpgihSPCnQ",
        "outputId": "bb6ecbcf-3ce3-4395-c126-356ef0bfd857"
      },
      "outputs": [
        {
          "output_type": "stream",
          "name": "stdout",
          "text": [
            "\n",
            "Jumlah nilai kosong dan string kosong yang dihapus: 164\n"
          ]
        }
      ],
      "source": [
        "# Menghapus nilai kosong dan string kosong\n",
        "initial_len = len(df)\n",
        "df.dropna(subset=['content'], inplace=True)\n",
        "df = df[df['content'] != '']  # Menghapus baris di mana 'content' adalah string kosong\n",
        "empty_values_removed = initial_len - len(df)\n",
        "print(f\"\\nJumlah nilai kosong dan string kosong yang dihapus: {empty_values_removed}\")"
      ]
    },
    {
      "cell_type": "code",
      "execution_count": 65,
      "metadata": {
        "colab": {
          "base_uri": "https://localhost:8080/"
        },
        "id": "vhiWVthFO60F",
        "outputId": "d92a2830-a32c-4d85-96e8-d436d2d0ce1d"
      },
      "outputs": [
        {
          "output_type": "stream",
          "name": "stdout",
          "text": [
            "\n",
            "Jumlah nilai duplikat yang dihapus: 6618\n"
          ]
        },
        {
          "output_type": "stream",
          "name": "stderr",
          "text": [
            "<ipython-input-65-4d393ebad84e>:3: SettingWithCopyWarning: \n",
            "A value is trying to be set on a copy of a slice from a DataFrame\n",
            "\n",
            "See the caveats in the documentation: https://pandas.pydata.org/pandas-docs/stable/user_guide/indexing.html#returning-a-view-versus-a-copy\n",
            "  df.drop_duplicates(subset=['content'], inplace=True)\n"
          ]
        }
      ],
      "source": [
        "# Menghapus nilai duplikat\n",
        "initial_len = len(df)\n",
        "df.drop_duplicates(subset=['content'], inplace=True)\n",
        "duplicates_removed = initial_len - len(df)\n",
        "print(f\"\\nJumlah nilai duplikat yang dihapus: {duplicates_removed}\")"
      ]
    },
    {
      "cell_type": "code",
      "execution_count": 66,
      "metadata": {
        "id": "brtVKT5tdmnk"
      },
      "outputs": [],
      "source": [
        "# Menyimpan dataframe yang telah diproses ke file CSV baru\n",
        "df.to_csv('threads_reviews_data_cleansing.csv', index=False)"
      ]
    },
    {
      "cell_type": "markdown",
      "metadata": {
        "id": "CEfVjq2RdrSk"
      },
      "source": [
        "# Labeling Data"
      ]
    },
    {
      "cell_type": "markdown",
      "metadata": {
        "id": "5FmVswA3C44n"
      },
      "source": [
        "Labeling data, mapping rating ke label."
      ]
    },
    {
      "cell_type": "code",
      "execution_count": 67,
      "metadata": {
        "id": "GfBN0pehLdPH"
      },
      "outputs": [],
      "source": [
        "# Memetakan skor ke label\n",
        "def map_to_label(score):\n",
        "    if score <= 2:\n",
        "        return 0  # Negatif\n",
        "    elif score >= 4:\n",
        "        return 1  # Positif\n",
        "    else:\n",
        "        return 2  # Netral\n",
        "\n",
        "df['label'] = df['score'].apply(map_to_label)"
      ]
    },
    {
      "cell_type": "code",
      "execution_count": 68,
      "metadata": {
        "id": "6YiXbJ1ZMCs4"
      },
      "outputs": [],
      "source": [
        "# Mengabaikan kolom score, karena hanya kolom label yang digunakan untuk pelatihan model\n",
        "df = df.loc[:, ['content', 'label']]"
      ]
    },
    {
      "cell_type": "code",
      "execution_count": 69,
      "metadata": {
        "colab": {
          "base_uri": "https://localhost:8080/",
          "height": 521
        },
        "id": "GpjnT03oIk0T",
        "outputId": "67caad46-638d-415a-fc62-b114b7d49e58"
      },
      "outputs": [
        {
          "output_type": "display_data",
          "data": {
            "text/plain": [
              "<Figure size 800x600 with 1 Axes>"
            ],
            "image/png": "[encoded data removed]"
          },
          "metadata": {}
        }
      ],
      "source": [
        "import matplotlib.pyplot as plt\n",
        "\n",
        "# Mendefinisikan warna dan label untuk plot\n",
        "colors = ['lightcoral', 'lightgreen', 'lightblue']\n",
        "labels = ['Negatif', 'Positif', 'Netral']\n",
        "\n",
        "# Membuat plot pie chart\n",
        "plt.figure(figsize=(8, 6))\n",
        "df['label'].value_counts().sort_index().plot(kind='pie', labels=labels, autopct='%1.1f%%', colors=colors, startangle=140)\n",
        "plt.title('Distribusi Label')\n",
        "plt.ylabel('')  # Menyembunyikan y-label karena tidak diperlukan pada pie chart\n",
        "plt.legend(labels, loc=\"upper right\")\n",
        "plt.show()"
      ]
    },
    {
      "cell_type": "code",
      "execution_count": 70,
      "metadata": {
        "colab": {
          "base_uri": "https://localhost:8080/"
        },
        "id": "DKa8TEXOLfQ_",
        "outputId": "f73fbf12-1fe0-45ab-bc18-77863ce00f6f"
      },
      "outputs": [
        {
          "output_type": "stream",
          "name": "stdout",
          "text": [
            "Label 0: 1115 reviews\n",
            "Label 1: 1727 reviews\n",
            "Label 2: 376 reviews\n"
          ]
        }
      ],
      "source": [
        "label_counts = df['label'].value_counts().sort_index()\n",
        "for label, count in label_counts.items():\n",
        "    print(f'Label {label}: {count} reviews')"
      ]
    },
    {
      "cell_type": "code",
      "execution_count": 71,
      "metadata": {
        "colab": {
          "base_uri": "https://localhost:8080/",
          "height": 206
        },
        "id": "K5Q4FHXDIV52",
        "outputId": "0aff3760-ee87-4125-e564-1e10aa82839d"
      },
      "outputs": [
        {
          "output_type": "execute_result",
          "data": {
            "text/plain": [
              "                                             content  label\n",
              "0                         bantu tuk kenal beda agama      2\n",
              "1                                             mantap      1\n",
              "2                               udah suruh baru anjg      0\n",
              "3                                              bagus      1\n",
              "4  aplikasi mirip instagram  jempol ke atas warna...      0"
            ],
            "text/html": [
              "\n",
              "  <div id=\"df-c8ff44da-aef8-4062-b03b-506da67f35d1\" class=\"colab-df-container\">\n",
              "    <div>\n",
              "<style scoped>\n",
              "    .dataframe tbody tr th:only-of-type {\n",
              "        vertical-align: middle;\n",
              "    }\n",
              "\n",
              "    .dataframe tbody tr th {\n",
              "        vertical-align: top;\n",
              "    }\n",
              "\n",
              "    .dataframe thead th {\n",
              "        text-align: right;\n",
              "    }\n",
              "</style>\n",
              "<table border=\"1\" class=\"dataframe\">\n",
              "  <thead>\n",
              "    <tr style=\"text-align: right;\">\n",
              "      <th></th>\n",
              "      <th>content</th>\n",
              "      <th>label</th>\n",
              "    </tr>\n",
              "  </thead>\n",
              "  <tbody>\n",
              "    <tr>\n",
              "      <th>0</th>\n",
              "      <td>bantu tuk kenal beda agama</td>\n",
              "      <td>2</td>\n",
              "    </tr>\n",
              "    <tr>\n",
              "      <th>1</th>\n",
              "      <td>mantap</td>\n",
              "      <td>1</td>\n",
              "    </tr>\n",
              "    <tr>\n",
              "      <th>2</th>\n",
              "      <td>udah suruh baru anjg</td>\n",
              "      <td>0</td>\n",
              "    </tr>\n",
              "    <tr>\n",
              "      <th>3</th>\n",
              "      <td>bagus</td>\n",
              "      <td>1</td>\n",
              "    </tr>\n",
              "    <tr>\n",
              "      <th>4</th>\n",
              "      <td>aplikasi mirip instagram  jempol ke atas warna...</td>\n",
              "      <td>0</td>\n",
              "    </tr>\n",
              "  </tbody>\n",
              "</table>\n",
              "</div>\n",
              "    <div class=\"colab-df-buttons\">\n",
              "\n",
              "  <div class=\"colab-df-container\">\n",
              "    <button class=\"colab-df-convert\" onclick=\"convertToInteractive('df-c8ff44da-aef8-4062-b03b-506da67f35d1')\"\n",
              "            title=\"Convert this dataframe to an interactive table.\"\n",
              "            style=\"display:none;\">\n",
              "\n",
              "  <svg xmlns=\"http://www.w3.org/2000/svg\" height=\"24px\" viewBox=\"0 -960 960 960\">\n",
              "    <path d=\"M120-120v-720h720v720H120Zm60-500h600v-160H180v160Zm220 220h160v-160H400v160Zm0 220h160v-160H400v160ZM180-400h160v-160H180v160Zm440 0h160v-160H620v160ZM180-180h160v-160H180v160Zm440 0h160v-160H620v160Z\"/>\n",
              "  </svg>\n",
              "    </button>\n",
              "\n",
              "  <style>\n",
              "    .colab-df-container {\n",
              "      display:flex;\n",
              "      gap: 12px;\n",
              "    }\n",
              "\n",
              "    .colab-df-convert {\n",
              "      background-color: #E8F0FE;\n",
              "      border: none;\n",
              "      border-radius: 50%;\n",
              "      cursor: pointer;\n",
              "      display: none;\n",
              "      fill: #1967D2;\n",
              "      height: 32px;\n",
              "      padding: 0 0 0 0;\n",
              "      width: 32px;\n",
              "    }\n",
              "\n",
              "    .colab-df-convert:hover {\n",
              "      background-color: #E2EBFA;\n",
              "      box-shadow: 0px 1px 2px rgba(60, 64, 67, 0.3), 0px 1px 3px 1px rgba(60, 64, 67, 0.15);\n",
              "      fill: #174EA6;\n",
              "    }\n",
              "\n",
              "    .colab-df-buttons div {\n",
              "      margin-bottom: 4px;\n",
              "    }\n",
              "\n",
              "    [theme=dark] .colab-df-convert {\n",
              "      background-color: #3B4455;\n",
              "      fill: #D2E3FC;\n",
              "    }\n",
              "\n",
              "    [theme=dark] .colab-df-convert:hover {\n",
              "      background-color: #434B5C;\n",
              "      box-shadow: 0px 1px 3px 1px rgba(0, 0, 0, 0.15);\n",
              "      filter: drop-shadow(0px 1px 2px rgba(0, 0, 0, 0.3));\n",
              "      fill: #FFFFFF;\n",
              "    }\n",
              "  </style>\n",
              "\n",
              "    <script>\n",
              "      const buttonEl =\n",
              "        document.querySelector('#df-c8ff44da-aef8-4062-b03b-506da67f35d1 button.colab-df-convert');\n",
              "      buttonEl.style.display =\n",
              "        google.colab.kernel.accessAllowed ? 'block' : 'none';\n",
              "\n",
              "      async function convertToInteractive(key) {\n",
              "        const element = document.querySelector('#df-c8ff44da-aef8-4062-b03b-506da67f35d1');\n",
              "        const dataTable =\n",
              "          await google.colab.kernel.invokeFunction('convertToInteractive',\n",
              "                                                    [key], {});\n",
              "        if (!dataTable) return;\n",
              "\n",
              "        const docLinkHtml = 'Like what you see? Visit the ' +\n",
              "          '<a target=\"_blank\" href=https://colab.research.google.com/notebooks/data_table.ipynb>data table notebook</a>'\n",
              "          + ' to learn more about interactive tables.';\n",
              "        element.innerHTML = '';\n",
              "        dataTable['output_type'] = 'display_data';\n",
              "        await google.colab.output.renderOutput(dataTable, element);\n",
              "        const docLink = document.createElement('div');\n",
              "        docLink.innerHTML = docLinkHtml;\n",
              "        element.appendChild(docLink);\n",
              "      }\n",
              "    </script>\n",
              "  </div>\n",
              "\n",
              "\n",
              "<div id=\"df-21e38adf-1e0c-466d-82ee-311031d9248e\">\n",
              "  <button class=\"colab-df-quickchart\" onclick=\"quickchart('df-21e38adf-1e0c-466d-82ee-311031d9248e')\"\n",
              "            title=\"Suggest charts\"\n",
              "            style=\"display:none;\">\n",
              "\n",
              "<svg xmlns=\"http://www.w3.org/2000/svg\" height=\"24px\"viewBox=\"0 0 24 24\"\n",
              "     width=\"24px\">\n",
              "    <g>\n",
              "        <path d=\"M19 3H5c-1.1 0-2 .9-2 2v14c0 1.1.9 2 2 2h14c1.1 0 2-.9 2-2V5c0-1.1-.9-2-2-2zM9 17H7v-7h2v7zm4 0h-2V7h2v10zm4 0h-2v-4h2v4z\"/>\n",
              "    </g>\n",
              "</svg>\n",
              "  </button>\n",
              "\n",
              "<style>\n",
              "  .colab-df-quickchart {\n",
              "      --bg-color: #E8F0FE;\n",
              "      --fill-color: #1967D2;\n",
              "      --hover-bg-color: #E2EBFA;\n",
              "      --hover-fill-color: #174EA6;\n",
              "      --disabled-fill-color: #AAA;\n",
              "      --disabled-bg-color: #DDD;\n",
              "  }\n",
              "\n",
              "  [theme=dark] .colab-df-quickchart {\n",
              "      --bg-color: #3B4455;\n",
              "      --fill-color: #D2E3FC;\n",
              "      --hover-bg-color: #434B5C;\n",
              "      --hover-fill-color: #FFFFFF;\n",
              "      --disabled-bg-color: #3B4455;\n",
              "      --disabled-fill-color: #666;\n",
              "  }\n",
              "\n",
              "  .colab-df-quickchart {\n",
              "    background-color: var(--bg-color);\n",
              "    border: none;\n",
              "    border-radius: 50%;\n",
              "    cursor: pointer;\n",
              "    display: none;\n",
              "    fill: var(--fill-color);\n",
              "    height: 32px;\n",
              "    padding: 0;\n",
              "    width: 32px;\n",
              "  }\n",
              "\n",
              "  .colab-df-quickchart:hover {\n",
              "    background-color: var(--hover-bg-color);\n",
              "    box-shadow: 0 1px 2px rgba(60, 64, 67, 0.3), 0 1px 3px 1px rgba(60, 64, 67, 0.15);\n",
              "    fill: var(--button-hover-fill-color);\n",
              "  }\n",
              "\n",
              "  .colab-df-quickchart-complete:disabled,\n",
              "  .colab-df-quickchart-complete:disabled:hover {\n",
              "    background-color: var(--disabled-bg-color);\n",
              "    fill: var(--disabled-fill-color);\n",
              "    box-shadow: none;\n",
              "  }\n",
              "\n",
              "  .colab-df-spinner {\n",
              "    border: 2px solid var(--fill-color);\n",
              "    border-color: transparent;\n",
              "    border-bottom-color: var(--fill-color);\n",
              "    animation:\n",
              "      spin 1s steps(1) infinite;\n",
              "  }\n",
              "\n",
              "  @keyframes spin {\n",
              "    0% {\n",
              "      border-color: transparent;\n",
              "      border-bottom-color: var(--fill-color);\n",
              "      border-left-color: var(--fill-color);\n",
              "    }\n",
              "    20% {\n",
              "      border-color: transparent;\n",
              "      border-left-color: var(--fill-color);\n",
              "      border-top-color: var(--fill-color);\n",
              "    }\n",
              "    30% {\n",
              "      border-color: transparent;\n",
              "      border-left-color: var(--fill-color);\n",
              "      border-top-color: var(--fill-color);\n",
              "      border-right-color: var(--fill-color);\n",
              "    }\n",
              "    40% {\n",
              "      border-color: transparent;\n",
              "      border-right-color: var(--fill-color);\n",
              "      border-top-color: var(--fill-color);\n",
              "    }\n",
              "    60% {\n",
              "      border-color: transparent;\n",
              "      border-right-color: var(--fill-color);\n",
              "    }\n",
              "    80% {\n",
              "      border-color: transparent;\n",
              "      border-right-color: var(--fill-color);\n",
              "      border-bottom-color: var(--fill-color);\n",
              "    }\n",
              "    90% {\n",
              "      border-color: transparent;\n",
              "      border-bottom-color: var(--fill-color);\n",
              "    }\n",
              "  }\n",
              "</style>\n",
              "\n",
              "  <script>\n",
              "    async function quickchart(key) {\n",
              "      const quickchartButtonEl =\n",
              "        document.querySelector('#' + key + ' button');\n",
              "      quickchartButtonEl.disabled = true;  // To prevent multiple clicks.\n",
              "      quickchartButtonEl.classList.add('colab-df-spinner');\n",
              "      try {\n",
              "        const charts = await google.colab.kernel.invokeFunction(\n",
              "            'suggestCharts', [key], {});\n",
              "      } catch (error) {\n",
              "        console.error('Error during call to suggestCharts:', error);\n",
              "      }\n",
              "      quickchartButtonEl.classList.remove('colab-df-spinner');\n",
              "      quickchartButtonEl.classList.add('colab-df-quickchart-complete');\n",
              "    }\n",
              "    (() => {\n",
              "      let quickchartButtonEl =\n",
              "        document.querySelector('#df-21e38adf-1e0c-466d-82ee-311031d9248e button');\n",
              "      quickchartButtonEl.style.display =\n",
              "        google.colab.kernel.accessAllowed ? 'block' : 'none';\n",
              "    })();\n",
              "  </script>\n",
              "</div>\n",
              "\n",
              "    </div>\n",
              "  </div>\n"
            ],
            "application/vnd.google.colaboratory.intrinsic+json": {
              "type": "dataframe",
              "variable_name": "df",
              "summary": "{\n  \"name\": \"df\",\n  \"rows\": 3218,\n  \"fields\": [\n    {\n      \"column\": \"content\",\n      \"properties\": {\n        \"dtype\": \"string\",\n        \"num_unique_values\": 3218,\n        \"samples\": [\n          \"bantu inspirasi\",\n          \"bug instal buka\",\n          \"bagus upload poto komunitas\"\n        ],\n        \"semantic_type\": \"\",\n        \"description\": \"\"\n      }\n    },\n    {\n      \"column\": \"label\",\n      \"properties\": {\n        \"dtype\": \"number\",\n        \"std\": 0,\n        \"min\": 0,\n        \"max\": 2,\n        \"num_unique_values\": 3,\n        \"samples\": [\n          2,\n          1,\n          0\n        ],\n        \"semantic_type\": \"\",\n        \"description\": \"\"\n      }\n    }\n  ]\n}"
            }
          },
          "metadata": {},
          "execution_count": 71
        }
      ],
      "source": [
        "# Tampilkan 5 baris pertama dari dataframe yang telah diproses\n",
        "df.head()"
      ]
    },
    {
      "cell_type": "code",
      "execution_count": 72,
      "metadata": {
        "colab": {
          "base_uri": "https://localhost:8080/"
        },
        "id": "UkTZKvYil1mA",
        "outputId": "c609b6cb-7899-473b-f2dc-6c29e9eae54b"
      },
      "outputs": [
        {
          "output_type": "stream",
          "name": "stdout",
          "text": [
            "\n",
            "Dataframe yang telah diproses telah disimpan ke threads_reviews_preprocessed.csv dengan 3218 baris.\n"
          ]
        }
      ],
      "source": [
        "# Menyimpan dataframe yang telah diproses ke file CSV baru\n",
        "df.to_csv('threads_reviews_preprocessed.csv', index=False)\n",
        "\n",
        "print(f\"\\nDataframe yang telah diproses telah disimpan ke threads_reviews_preprocessed.csv dengan {len(df)} baris.\")"
      ]
    },
    {
      "cell_type": "markdown",
      "metadata": {
        "id": "UCDIfbNG-mRJ"
      },
      "source": [
        "Pembagian dataset menjadi tiga bagian: set pelatihan, set validasi, dan set pengujian menggunakan fungsi `train_test_split` dari `sklearn.model_selection`.\n",
        "\n",
        "Proporsi pembagian data sebesar, 80% set pelatihan, 10% set validasi, dan 10% set pengujian."
      ]
    },
    {
      "cell_type": "code",
      "execution_count": 73,
      "metadata": {
        "colab": {
          "base_uri": "https://localhost:8080/"
        },
        "id": "fgS6WQwdQ3YE",
        "outputId": "4c97cb87-d7b5-4828-a12c-a46d54d49ab4"
      },
      "outputs": [
        {
          "output_type": "stream",
          "name": "stdout",
          "text": [
            "Panjang set pelatihan: 2574\n",
            "Panjang set validasi: 322\n",
            "Panjang set pengujian: 322\n"
          ]
        }
      ],
      "source": [
        "from sklearn.model_selection import train_test_split\n",
        "\n",
        "# Tentukan persentase pembagian\n",
        "train_percent = 0.8\n",
        "test_val_percent = 0.1  # 10% untuk data uji dan validasi masing-masing\n",
        "\n",
        "# Membagi data menjadi set pelatihan, validasi, dan pengujian\n",
        "train_val_df, test_df = train_test_split(df, test_size=test_val_percent, random_state=RANDOM_SEED)\n",
        "train_df, val_df = train_test_split(train_val_df, test_size=test_val_percent/(1-test_val_percent), random_state=RANDOM_SEED)\n",
        "\n",
        "# Cetak panjang set pelatihan, validasi, dan pengujian\n",
        "print(\"Panjang set pelatihan:\", len(train_df))\n",
        "print(\"Panjang set validasi:\", len(val_df))\n",
        "print(\"Panjang set pengujian:\", len(test_df))"
      ]
    },
    {
      "cell_type": "markdown",
      "metadata": {
        "id": "KfmhosV_RTvU"
      },
      "source": [
        "# Training Data"
      ]
    },
    {
      "cell_type": "code",
      "execution_count": 74,
      "metadata": {
        "colab": {
          "base_uri": "https://localhost:8080/"
        },
        "id": "2k8H4BAURIot",
        "outputId": "03959483-b19e-4a60-fbe3-500a22671ee1"
      },
      "outputs": [
        {
          "output_type": "stream",
          "name": "stdout",
          "text": [
            "Hasil dari tokenisasi:\n",
            "1721    kasih bintang\n",
            "Name: content, dtype: object\n",
            "[[29, 16]]\n"
          ]
        }
      ],
      "source": [
        "import numpy as np\n",
        "import tensorflow as tf\n",
        "from tensorflow.keras.models import Sequential\n",
        "from tensorflow.keras.layers import Embedding, SimpleRNN, Dense, Dropout\n",
        "from tensorflow.keras.preprocessing.sequence import pad_sequences\n",
        "from tensorflow.keras.callbacks import EarlyStopping\n",
        "\n",
        "# Tokenisasi data teks\n",
        "tokenizer = tf.keras.preprocessing.text.Tokenizer()\n",
        "tokenizer.fit_on_texts(train_df['content'])\n",
        "\n",
        "# Konversi data teks menjadi urutan angka (sequences)\n",
        "train_sequences = tokenizer.texts_to_sequences(train_df['content'])\n",
        "val_sequences = tokenizer.texts_to_sequences(val_df['content'])\n",
        "test_sequences = tokenizer.texts_to_sequences(test_df['content'])\n",
        "\n",
        "# Print hasil dari tokenisasi\n",
        "print(\"Hasil dari tokenisasi:\")\n",
        "print(train_df['content'][:1])\n",
        "print(train_sequences[:1])"
      ]
    },
    {
      "cell_type": "code",
      "execution_count": 75,
      "metadata": {
        "colab": {
          "base_uri": "https://localhost:8080/"
        },
        "id": "LWqeerRzdW-y",
        "outputId": "457546c5-e4fa-43e8-d78a-0f3911cd09cf"
      },
      "outputs": [
        {
          "output_type": "stream",
          "name": "stdout",
          "text": [
            "Teks dengan panjang maksimum (122 kata):\n",
            "baguss bangetttttt  wajah dengan mata bentuk bintang  wajah dengan mata bentuk bintang  wajah dengan mata bentuk bintang  wajah dengan mata bentuk bintang  wajah dengan mata bentuk bintang  wajah dengan mata bentuk bintang  wajah dengan mata bentuk bintang  wajah dengan mata bentuk bintang  wajah dengan mata bentuk bintang  wajah dengan mata bentuk bintang  wajah dengan mata bentuk bintang  wajah dengan mata bentuk bintang  wajah dengan mata bentuk bintang  wajah dengan mata bentuk bintang  wajah dengan mata bentuk bintang  wajah dengan mata bentuk bintang  wajah dengan mata bentuk bintang  wajah dengan mata bentuk bintang  wajah dengan mata bentuk bintang  wajah dengan mata bentuk bintang  wajah dengan mata bentuk bintang  wajah dengan mata bentuk bintang  wajah dengan mata bentuk bintang  wajah dengan mata bentuk bintang\n"
          ]
        }
      ],
      "source": [
        "# Temukan urutan dengan panjang maksimum\n",
        "max_length = max(len(seq.split()) for seq in train_df['content'])\n",
        "sequence_with_max_length = train_df[train_df['content'].apply(lambda x: len(x.split())) == max_length]['content'].iloc[0]\n",
        "\n",
        "# Cetak teks dengan panjang maksimum\n",
        "print(f\"Teks dengan panjang maksimum ({max_length} kata):\")\n",
        "print(sequence_with_max_length)"
      ]
    },
    {
      "cell_type": "code",
      "execution_count": 76,
      "metadata": {
        "colab": {
          "base_uri": "https://localhost:8080/"
        },
        "id": "jZcZ7cMHbaxh",
        "outputId": "5e7b88ca-332a-4ce8-ae5a-36a6fed64803"
      },
      "outputs": [
        {
          "output_type": "stream",
          "name": "stdout",
          "text": [
            "\n",
            "Hasil dari pad_sequences:\n",
            "[[29 16  0  0  0  0  0  0  0  0  0  0  0  0  0  0  0  0  0  0  0  0  0  0\n",
            "   0  0  0  0  0  0  0  0  0  0  0  0  0  0  0  0  0  0  0  0  0  0  0  0\n",
            "   0  0  0  0  0  0  0  0  0  0  0  0  0  0  0  0  0  0  0  0  0  0  0  0\n",
            "   0  0  0  0  0  0  0  0  0  0  0  0  0  0  0  0  0  0  0  0  0  0  0  0\n",
            "   0  0  0  0  0  0  0  0  0  0  0  0  0  0  0  0  0  0  0  0  0  0  0  0\n",
            "   0  0]]\n"
          ]
        }
      ],
      "source": [
        "# Padding urutan agar memiliki panjang yang sama\n",
        "train_data = pad_sequences(train_sequences, maxlen=max_length, padding='post')\n",
        "val_data = pad_sequences(val_sequences, maxlen=max_length, padding='post')\n",
        "test_data = pad_sequences(test_sequences, maxlen=max_length, padding='post')\n",
        "\n",
        "# Print hasil dari pad_sequences\n",
        "print(\"\\nHasil dari pad_sequences:\")\n",
        "print(train_data[:1])  # Print baris pertama"
      ]
    },
    {
      "cell_type": "markdown",
      "metadata": {
        "id": "A1piFFAUAbiq"
      },
      "source": [
        "## Training model dengan arsitektur Simple RNN"
      ]
    },
    {
      "cell_type": "code",
      "execution_count": 77,
      "metadata": {
        "id": "UNmAYsioAaL9",
        "colab": {
          "base_uri": "https://localhost:8080/"
        },
        "outputId": "a4289f20-d63c-4a5a-fc9f-7c3befcff1d3"
      },
      "outputs": [
        {
          "output_type": "stream",
          "name": "stdout",
          "text": [
            "Epoch 1/100\n"
          ]
        },
        {
          "output_type": "stream",
          "name": "stderr",
          "text": [
            "/usr/local/lib/python3.10/dist-packages/keras/src/layers/core/embedding.py:90: UserWarning: Argument `input_length` is deprecated. Just remove it.\n",
            "  warnings.warn(\n"
          ]
        },
        {
          "output_type": "stream",
          "name": "stdout",
          "text": [
            "\u001b[1m81/81\u001b[0m \u001b[32m━━━━━━━━━━━━━━━━━━━━\u001b[0m\u001b[37m\u001b[0m \u001b[1m12s\u001b[0m 78ms/step - accuracy: 0.4648 - loss: 1.2950 - val_accuracy: 0.5435 - val_loss: 1.2075\n",
            "Epoch 2/100\n",
            "\u001b[1m81/81\u001b[0m \u001b[32m━━━━━━━━━━━━━━━━━━━━\u001b[0m\u001b[37m\u001b[0m \u001b[1m2s\u001b[0m 29ms/step - accuracy: 0.4924 - loss: 1.2139 - val_accuracy: 0.5435 - val_loss: 1.1668\n",
            "Epoch 3/100\n",
            "\u001b[1m81/81\u001b[0m \u001b[32m━━━━━━━━━━━━━━━━━━━━\u001b[0m\u001b[37m\u001b[0m \u001b[1m2s\u001b[0m 28ms/step - accuracy: 0.4868 - loss: 1.1867 - val_accuracy: 0.5435 - val_loss: 1.1601\n",
            "Epoch 4/100\n",
            "\u001b[1m81/81\u001b[0m \u001b[32m━━━━━━━━━━━━━━━━━━━━\u001b[0m\u001b[37m\u001b[0m \u001b[1m3s\u001b[0m 35ms/step - accuracy: 0.4961 - loss: 1.1742 - val_accuracy: 0.5435 - val_loss: 1.1459\n",
            "Epoch 5/100\n",
            "\u001b[1m81/81\u001b[0m \u001b[32m━━━━━━━━━━━━━━━━━━━━\u001b[0m\u001b[37m\u001b[0m \u001b[1m5s\u001b[0m 30ms/step - accuracy: 0.4978 - loss: 1.1425 - val_accuracy: 0.5435 - val_loss: 1.1294\n",
            "Epoch 6/100\n",
            "\u001b[1m81/81\u001b[0m \u001b[32m━━━━━━━━━━━━━━━━━━━━\u001b[0m\u001b[37m\u001b[0m \u001b[1m2s\u001b[0m 28ms/step - accuracy: 0.5144 - loss: 1.1288 - val_accuracy: 0.5435 - val_loss: 1.1148\n",
            "Epoch 7/100\n",
            "\u001b[1m81/81\u001b[0m \u001b[32m━━━━━━━━━━━━━━━━━━━━\u001b[0m\u001b[37m\u001b[0m \u001b[1m2s\u001b[0m 28ms/step - accuracy: 0.5120 - loss: 1.1184 - val_accuracy: 0.5435 - val_loss: 1.1032\n",
            "Epoch 8/100\n",
            "\u001b[1m81/81\u001b[0m \u001b[32m━━━━━━━━━━━━━━━━━━━━\u001b[0m\u001b[37m\u001b[0m \u001b[1m3s\u001b[0m 33ms/step - accuracy: 0.5134 - loss: 1.1008 - val_accuracy: 0.5435 - val_loss: 1.0898\n",
            "Epoch 9/100\n",
            "\u001b[1m81/81\u001b[0m \u001b[32m━━━━━━━━━━━━━━━━━━━━\u001b[0m\u001b[37m\u001b[0m \u001b[1m5s\u001b[0m 30ms/step - accuracy: 0.5164 - loss: 1.0830 - val_accuracy: 0.5435 - val_loss: 1.0838\n",
            "Epoch 10/100\n",
            "\u001b[1m81/81\u001b[0m \u001b[32m━━━━━━━━━━━━━━━━━━━━\u001b[0m\u001b[37m\u001b[0m \u001b[1m2s\u001b[0m 28ms/step - accuracy: 0.5174 - loss: 1.0742 - val_accuracy: 0.5435 - val_loss: 1.0730\n",
            "Epoch 11/100\n",
            "\u001b[1m81/81\u001b[0m \u001b[32m━━━━━━━━━━━━━━━━━━━━\u001b[0m\u001b[37m\u001b[0m \u001b[1m2s\u001b[0m 28ms/step - accuracy: 0.5143 - loss: 1.0737 - val_accuracy: 0.5435 - val_loss: 1.0666\n",
            "Epoch 12/100\n",
            "\u001b[1m81/81\u001b[0m \u001b[32m━━━━━━━━━━━━━━━━━━━━\u001b[0m\u001b[37m\u001b[0m \u001b[1m3s\u001b[0m 34ms/step - accuracy: 0.5120 - loss: 1.0635 - val_accuracy: 0.5435 - val_loss: 1.0551\n",
            "Epoch 13/100\n",
            "\u001b[1m81/81\u001b[0m \u001b[32m━━━━━━━━━━━━━━━━━━━━\u001b[0m\u001b[37m\u001b[0m \u001b[1m2s\u001b[0m 30ms/step - accuracy: 0.5163 - loss: 1.0500 - val_accuracy: 0.5435 - val_loss: 1.0499\n",
            "Epoch 14/100\n",
            "\u001b[1m81/81\u001b[0m \u001b[32m━━━━━━━━━━━━━━━━━━━━\u001b[0m\u001b[37m\u001b[0m \u001b[1m2s\u001b[0m 28ms/step - accuracy: 0.5158 - loss: 1.0414 - val_accuracy: 0.5435 - val_loss: 1.0422\n",
            "Epoch 15/100\n",
            "\u001b[1m81/81\u001b[0m \u001b[32m━━━━━━━━━━━━━━━━━━━━\u001b[0m\u001b[37m\u001b[0m \u001b[1m2s\u001b[0m 28ms/step - accuracy: 0.5163 - loss: 1.0423 - val_accuracy: 0.5435 - val_loss: 1.0348\n",
            "Epoch 16/100\n",
            "\u001b[1m81/81\u001b[0m \u001b[32m━━━━━━━━━━━━━━━━━━━━\u001b[0m\u001b[37m\u001b[0m \u001b[1m2s\u001b[0m 28ms/step - accuracy: 0.5163 - loss: 1.0296 - val_accuracy: 0.5435 - val_loss: 1.0293\n",
            "Epoch 17/100\n",
            "\u001b[1m81/81\u001b[0m \u001b[32m━━━━━━━━━━━━━━━━━━━━\u001b[0m\u001b[37m\u001b[0m \u001b[1m3s\u001b[0m 32ms/step - accuracy: 0.5163 - loss: 1.0225 - val_accuracy: 0.5435 - val_loss: 1.0254\n",
            "Epoch 18/100\n",
            "\u001b[1m81/81\u001b[0m \u001b[32m━━━━━━━━━━━━━━━━━━━━\u001b[0m\u001b[37m\u001b[0m \u001b[1m3s\u001b[0m 32ms/step - accuracy: 0.5163 - loss: 1.0237 - val_accuracy: 0.5435 - val_loss: 1.0240\n",
            "Epoch 19/100\n",
            "\u001b[1m81/81\u001b[0m \u001b[32m━━━━━━━━━━━━━━━━━━━━\u001b[0m\u001b[37m\u001b[0m \u001b[1m2s\u001b[0m 28ms/step - accuracy: 0.5163 - loss: 1.0096 - val_accuracy: 0.5435 - val_loss: 1.0138\n",
            "Epoch 20/100\n",
            "\u001b[1m81/81\u001b[0m \u001b[32m━━━━━━━━━━━━━━━━━━━━\u001b[0m\u001b[37m\u001b[0m \u001b[1m2s\u001b[0m 29ms/step - accuracy: 0.5163 - loss: 1.0103 - val_accuracy: 0.5435 - val_loss: 1.0175\n",
            "Epoch 21/100\n",
            "\u001b[1m81/81\u001b[0m \u001b[32m━━━━━━━━━━━━━━━━━━━━\u001b[0m\u001b[37m\u001b[0m \u001b[1m2s\u001b[0m 28ms/step - accuracy: 0.5163 - loss: 1.0056 - val_accuracy: 0.5435 - val_loss: 1.0089\n",
            "Epoch 22/100\n",
            "\u001b[1m81/81\u001b[0m \u001b[32m━━━━━━━━━━━━━━━━━━━━\u001b[0m\u001b[37m\u001b[0m \u001b[1m3s\u001b[0m 30ms/step - accuracy: 0.5163 - loss: 1.0007 - val_accuracy: 0.5435 - val_loss: 1.0033\n",
            "Epoch 23/100\n",
            "\u001b[1m81/81\u001b[0m \u001b[32m━━━━━━━━━━━━━━━━━━━━\u001b[0m\u001b[37m\u001b[0m \u001b[1m3s\u001b[0m 35ms/step - accuracy: 0.5163 - loss: 0.9991 - val_accuracy: 0.5435 - val_loss: 1.0024\n",
            "Epoch 24/100\n",
            "\u001b[1m81/81\u001b[0m \u001b[32m━━━━━━━━━━━━━━━━━━━━\u001b[0m\u001b[37m\u001b[0m \u001b[1m2s\u001b[0m 28ms/step - accuracy: 0.5163 - loss: 0.9907 - val_accuracy: 0.5435 - val_loss: 1.0028\n",
            "Epoch 25/100\n",
            "\u001b[1m81/81\u001b[0m \u001b[32m━━━━━━━━━━━━━━━━━━━━\u001b[0m\u001b[37m\u001b[0m \u001b[1m2s\u001b[0m 28ms/step - accuracy: 0.5163 - loss: 0.9875 - val_accuracy: 0.5435 - val_loss: 1.0005\n",
            "Epoch 26/100\n",
            "\u001b[1m81/81\u001b[0m \u001b[32m━━━━━━━━━━━━━━━━━━━━\u001b[0m\u001b[37m\u001b[0m \u001b[1m3s\u001b[0m 28ms/step - accuracy: 0.5148 - loss: 0.9845 - val_accuracy: 0.5435 - val_loss: 0.9969\n",
            "Epoch 27/100\n",
            "\u001b[1m81/81\u001b[0m \u001b[32m━━━━━━━━━━━━━━━━━━━━\u001b[0m\u001b[37m\u001b[0m \u001b[1m2s\u001b[0m 28ms/step - accuracy: 0.5163 - loss: 0.9828 - val_accuracy: 0.5435 - val_loss: 0.9910\n",
            "Epoch 28/100\n",
            "\u001b[1m81/81\u001b[0m \u001b[32m━━━━━━━━━━━━━━━━━━━━\u001b[0m\u001b[37m\u001b[0m \u001b[1m3s\u001b[0m 36ms/step - accuracy: 0.5163 - loss: 0.9846 - val_accuracy: 0.5435 - val_loss: 0.9902\n",
            "Epoch 29/100\n",
            "\u001b[1m81/81\u001b[0m \u001b[32m━━━━━━━━━━━━━━━━━━━━\u001b[0m\u001b[37m\u001b[0m \u001b[1m5s\u001b[0m 29ms/step - accuracy: 0.5163 - loss: 0.9832 - val_accuracy: 0.5435 - val_loss: 0.9944\n",
            "Epoch 30/100\n",
            "\u001b[1m81/81\u001b[0m \u001b[32m━━━━━━━━━━━━━━━━━━━━\u001b[0m\u001b[37m\u001b[0m \u001b[1m2s\u001b[0m 28ms/step - accuracy: 0.5163 - loss: 0.9898 - val_accuracy: 0.5435 - val_loss: 0.9871\n",
            "Epoch 31/100\n",
            "\u001b[1m81/81\u001b[0m \u001b[32m━━━━━━━━━━━━━━━━━━━━\u001b[0m\u001b[37m\u001b[0m \u001b[1m2s\u001b[0m 28ms/step - accuracy: 0.5163 - loss: 0.9756 - val_accuracy: 0.5435 - val_loss: 0.9842\n",
            "Epoch 32/100\n",
            "\u001b[1m81/81\u001b[0m \u001b[32m━━━━━━━━━━━━━━━━━━━━\u001b[0m\u001b[37m\u001b[0m \u001b[1m3s\u001b[0m 35ms/step - accuracy: 0.5163 - loss: 0.9787 - val_accuracy: 0.5435 - val_loss: 0.9820\n",
            "Epoch 33/100\n",
            "\u001b[1m81/81\u001b[0m \u001b[32m━━━━━━━━━━━━━━━━━━━━\u001b[0m\u001b[37m\u001b[0m \u001b[1m5s\u001b[0m 30ms/step - accuracy: 0.5163 - loss: 0.9738 - val_accuracy: 0.5435 - val_loss: 0.9811\n",
            "Epoch 34/100\n",
            "\u001b[1m81/81\u001b[0m \u001b[32m━━━━━━━━━━━━━━━━━━━━\u001b[0m\u001b[37m\u001b[0m \u001b[1m2s\u001b[0m 28ms/step - accuracy: 0.5163 - loss: 0.9757 - val_accuracy: 0.5435 - val_loss: 0.9794\n",
            "Epoch 35/100\n",
            "\u001b[1m81/81\u001b[0m \u001b[32m━━━━━━━━━━━━━━━━━━━━\u001b[0m\u001b[37m\u001b[0m \u001b[1m2s\u001b[0m 28ms/step - accuracy: 0.5163 - loss: 0.9720 - val_accuracy: 0.5435 - val_loss: 0.9779\n",
            "Epoch 36/100\n",
            "\u001b[1m81/81\u001b[0m \u001b[32m━━━━━━━━━━━━━━━━━━━━\u001b[0m\u001b[37m\u001b[0m \u001b[1m3s\u001b[0m 34ms/step - accuracy: 0.5163 - loss: 0.9695 - val_accuracy: 0.5435 - val_loss: 0.9771\n",
            "Epoch 37/100\n",
            "\u001b[1m81/81\u001b[0m \u001b[32m━━━━━━━━━━━━━━━━━━━━\u001b[0m\u001b[37m\u001b[0m \u001b[1m5s\u001b[0m 30ms/step - accuracy: 0.5163 - loss: 0.9665 - val_accuracy: 0.5435 - val_loss: 0.9757\n",
            "Epoch 38/100\n",
            "\u001b[1m81/81\u001b[0m \u001b[32m━━━━━━━━━━━━━━━━━━━━\u001b[0m\u001b[37m\u001b[0m \u001b[1m2s\u001b[0m 28ms/step - accuracy: 0.5163 - loss: 0.9721 - val_accuracy: 0.5435 - val_loss: 0.9751\n",
            "Epoch 39/100\n",
            "\u001b[1m81/81\u001b[0m \u001b[32m━━━━━━━━━━━━━━━━━━━━\u001b[0m\u001b[37m\u001b[0m \u001b[1m3s\u001b[0m 29ms/step - accuracy: 0.5163 - loss: 0.9703 - val_accuracy: 0.5435 - val_loss: 0.9750\n",
            "Epoch 40/100\n",
            "\u001b[1m81/81\u001b[0m \u001b[32m━━━━━━━━━━━━━━━━━━━━\u001b[0m\u001b[37m\u001b[0m \u001b[1m3s\u001b[0m 35ms/step - accuracy: 0.5163 - loss: 0.9665 - val_accuracy: 0.5435 - val_loss: 0.9751\n",
            "Epoch 41/100\n",
            "\u001b[1m81/81\u001b[0m \u001b[32m━━━━━━━━━━━━━━━━━━━━\u001b[0m\u001b[37m\u001b[0m \u001b[1m5s\u001b[0m 30ms/step - accuracy: 0.5163 - loss: 0.9669 - val_accuracy: 0.5435 - val_loss: 0.9729\n",
            "Epoch 42/100\n",
            "\u001b[1m81/81\u001b[0m \u001b[32m━━━━━━━━━━━━━━━━━━━━\u001b[0m\u001b[37m\u001b[0m \u001b[1m2s\u001b[0m 28ms/step - accuracy: 0.5163 - loss: 0.9675 - val_accuracy: 0.5435 - val_loss: 0.9739\n",
            "Epoch 43/100\n",
            "\u001b[1m81/81\u001b[0m \u001b[32m━━━━━━━━━━━━━━━━━━━━\u001b[0m\u001b[37m\u001b[0m \u001b[1m2s\u001b[0m 28ms/step - accuracy: 0.5163 - loss: 0.9651 - val_accuracy: 0.5435 - val_loss: 0.9742\n",
            "Epoch 44/100\n",
            "\u001b[1m81/81\u001b[0m \u001b[32m━━━━━━━━━━━━━━━━━━━━\u001b[0m\u001b[37m\u001b[0m \u001b[1m3s\u001b[0m 34ms/step - accuracy: 0.5163 - loss: 0.9618 - val_accuracy: 0.5435 - val_loss: 0.9732\n",
            "Epoch 45/100\n",
            "\u001b[1m81/81\u001b[0m \u001b[32m━━━━━━━━━━━━━━━━━━━━\u001b[0m\u001b[37m\u001b[0m \u001b[1m2s\u001b[0m 30ms/step - accuracy: 0.5163 - loss: 0.9665 - val_accuracy: 0.5435 - val_loss: 0.9715\n",
            "Epoch 46/100\n",
            "\u001b[1m81/81\u001b[0m \u001b[32m━━━━━━━━━━━━━━━━━━━━\u001b[0m\u001b[37m\u001b[0m \u001b[1m2s\u001b[0m 28ms/step - accuracy: 0.5163 - loss: 0.9616 - val_accuracy: 0.5435 - val_loss: 0.9706\n",
            "Epoch 47/100\n",
            "\u001b[1m81/81\u001b[0m \u001b[32m━━━━━━━━━━━━━━━━━━━━\u001b[0m\u001b[37m\u001b[0m \u001b[1m3s\u001b[0m 28ms/step - accuracy: 0.5163 - loss: 0.9639 - val_accuracy: 0.5435 - val_loss: 0.9715\n",
            "Epoch 48/100\n",
            "\u001b[1m81/81\u001b[0m \u001b[32m━━━━━━━━━━━━━━━━━━━━\u001b[0m\u001b[37m\u001b[0m \u001b[1m2s\u001b[0m 28ms/step - accuracy: 0.5163 - loss: 0.9632 - val_accuracy: 0.5435 - val_loss: 0.9719\n",
            "Epoch 49/100\n",
            "\u001b[1m81/81\u001b[0m \u001b[32m━━━━━━━━━━━━━━━━━━━━\u001b[0m\u001b[37m\u001b[0m \u001b[1m3s\u001b[0m 34ms/step - accuracy: 0.5163 - loss: 0.9635 - val_accuracy: 0.5435 - val_loss: 0.9709\n",
            "Epoch 50/100\n",
            "\u001b[1m81/81\u001b[0m \u001b[32m━━━━━━━━━━━━━━━━━━━━\u001b[0m\u001b[37m\u001b[0m \u001b[1m5s\u001b[0m 30ms/step - accuracy: 0.5163 - loss: 0.9612 - val_accuracy: 0.5435 - val_loss: 0.9714\n",
            "Epoch 51/100\n",
            "\u001b[1m81/81\u001b[0m \u001b[32m━━━━━━━━━━━━━━━━━━━━\u001b[0m\u001b[37m\u001b[0m \u001b[1m2s\u001b[0m 28ms/step - accuracy: 0.5163 - loss: 0.9625 - val_accuracy: 0.5435 - val_loss: 0.9705\n",
            "Epoch 52/100\n",
            "\u001b[1m81/81\u001b[0m \u001b[32m━━━━━━━━━━━━━━━━━━━━\u001b[0m\u001b[37m\u001b[0m \u001b[1m3s\u001b[0m 28ms/step - accuracy: 0.5163 - loss: 0.9636 - val_accuracy: 0.5435 - val_loss: 0.9694\n",
            "Epoch 53/100\n",
            "\u001b[1m81/81\u001b[0m \u001b[32m━━━━━━━━━━━━━━━━━━━━\u001b[0m\u001b[37m\u001b[0m \u001b[1m3s\u001b[0m 36ms/step - accuracy: 0.5163 - loss: 0.9581 - val_accuracy: 0.5435 - val_loss: 0.9690\n",
            "Epoch 54/100\n",
            "\u001b[1m81/81\u001b[0m \u001b[32m━━━━━━━━━━━━━━━━━━━━\u001b[0m\u001b[37m\u001b[0m \u001b[1m5s\u001b[0m 30ms/step - accuracy: 0.5163 - loss: 0.9615 - val_accuracy: 0.5435 - val_loss: 0.9697\n",
            "Epoch 55/100\n",
            "\u001b[1m81/81\u001b[0m \u001b[32m━━━━━━━━━━━━━━━━━━━━\u001b[0m\u001b[37m\u001b[0m \u001b[1m2s\u001b[0m 28ms/step - accuracy: 0.5163 - loss: 0.9606 - val_accuracy: 0.5435 - val_loss: 0.9702\n",
            "Epoch 56/100\n",
            "\u001b[1m81/81\u001b[0m \u001b[32m━━━━━━━━━━━━━━━━━━━━\u001b[0m\u001b[37m\u001b[0m \u001b[1m3s\u001b[0m 28ms/step - accuracy: 0.5163 - loss: 0.9621 - val_accuracy: 0.5435 - val_loss: 0.9695\n",
            "Epoch 57/100\n",
            "\u001b[1m81/81\u001b[0m \u001b[32m━━━━━━━━━━━━━━━━━━━━\u001b[0m\u001b[37m\u001b[0m \u001b[1m3s\u001b[0m 35ms/step - accuracy: 0.5163 - loss: 0.9596 - val_accuracy: 0.5435 - val_loss: 0.9684\n",
            "Epoch 58/100\n",
            "\u001b[1m81/81\u001b[0m \u001b[32m━━━━━━━━━━━━━━━━━━━━\u001b[0m\u001b[37m\u001b[0m \u001b[1m5s\u001b[0m 30ms/step - accuracy: 0.5163 - loss: 0.9591 - val_accuracy: 0.5435 - val_loss: 0.9686\n",
            "Epoch 59/100\n",
            "\u001b[1m81/81\u001b[0m \u001b[32m━━━━━━━━━━━━━━━━━━━━\u001b[0m\u001b[37m\u001b[0m \u001b[1m2s\u001b[0m 28ms/step - accuracy: 0.5163 - loss: 0.9610 - val_accuracy: 0.5435 - val_loss: 0.9688\n",
            "Epoch 60/100\n",
            "\u001b[1m81/81\u001b[0m \u001b[32m━━━━━━━━━━━━━━━━━━━━\u001b[0m\u001b[37m\u001b[0m \u001b[1m3s\u001b[0m 29ms/step - accuracy: 0.5163 - loss: 0.9601 - val_accuracy: 0.5435 - val_loss: 0.9684\n",
            "Epoch 61/100\n",
            "\u001b[1m81/81\u001b[0m \u001b[32m━━━━━━━━━━━━━━━━━━━━\u001b[0m\u001b[37m\u001b[0m \u001b[1m3s\u001b[0m 33ms/step - accuracy: 0.5163 - loss: 0.9603 - val_accuracy: 0.5435 - val_loss: 0.9696\n",
            "Epoch 62/100\n",
            "\u001b[1m81/81\u001b[0m \u001b[32m━━━━━━━━━━━━━━━━━━━━\u001b[0m\u001b[37m\u001b[0m \u001b[1m3s\u001b[0m 31ms/step - accuracy: 0.5163 - loss: 0.9605 - val_accuracy: 0.5435 - val_loss: 0.9687\n",
            "Epoch 63/100\n",
            "\u001b[1m81/81\u001b[0m \u001b[32m━━━━━━━━━━━━━━━━━━━━\u001b[0m\u001b[37m\u001b[0m \u001b[1m2s\u001b[0m 28ms/step - accuracy: 0.5163 - loss: 0.9587 - val_accuracy: 0.5435 - val_loss: 0.9685\n",
            "Epoch 64/100\n",
            "\u001b[1m81/81\u001b[0m \u001b[32m━━━━━━━━━━━━━━━━━━━━\u001b[0m\u001b[37m\u001b[0m \u001b[1m3s\u001b[0m 28ms/step - accuracy: 0.5163 - loss: 0.9595 - val_accuracy: 0.5435 - val_loss: 0.9685\n",
            "Epoch 65/100\n",
            "\u001b[1m81/81\u001b[0m \u001b[32m━━━━━━━━━━━━━━━━━━━━\u001b[0m\u001b[37m\u001b[0m \u001b[1m2s\u001b[0m 28ms/step - accuracy: 0.5163 - loss: 0.9588 - val_accuracy: 0.5435 - val_loss: 0.9680\n",
            "Epoch 66/100\n",
            "\u001b[1m81/81\u001b[0m \u001b[32m━━━━━━━━━━━━━━━━━━━━\u001b[0m\u001b[37m\u001b[0m \u001b[1m3s\u001b[0m 32ms/step - accuracy: 0.5163 - loss: 0.9598 - val_accuracy: 0.5435 - val_loss: 0.9684\n",
            "Epoch 67/100\n",
            "\u001b[1m81/81\u001b[0m \u001b[32m━━━━━━━━━━━━━━━━━━━━\u001b[0m\u001b[37m\u001b[0m \u001b[1m5s\u001b[0m 30ms/step - accuracy: 0.5163 - loss: 0.9586 - val_accuracy: 0.5435 - val_loss: 0.9678\n",
            "Epoch 68/100\n",
            "\u001b[1m81/81\u001b[0m \u001b[32m━━━━━━━━━━━━━━━━━━━━\u001b[0m\u001b[37m\u001b[0m \u001b[1m2s\u001b[0m 29ms/step - accuracy: 0.5163 - loss: 0.9580 - val_accuracy: 0.5435 - val_loss: 0.9677\n",
            "Epoch 69/100\n",
            "\u001b[1m81/81\u001b[0m \u001b[32m━━━━━━━━━━━━━━━━━━━━\u001b[0m\u001b[37m\u001b[0m \u001b[1m3s\u001b[0m 28ms/step - accuracy: 0.5163 - loss: 0.9592 - val_accuracy: 0.5435 - val_loss: 0.9674\n",
            "Epoch 70/100\n",
            "\u001b[1m81/81\u001b[0m \u001b[32m━━━━━━━━━━━━━━━━━━━━\u001b[0m\u001b[37m\u001b[0m \u001b[1m3s\u001b[0m 34ms/step - accuracy: 0.5163 - loss: 0.9598 - val_accuracy: 0.5435 - val_loss: 0.9674\n",
            "Epoch 71/100\n",
            "\u001b[1m81/81\u001b[0m \u001b[32m━━━━━━━━━━━━━━━━━━━━\u001b[0m\u001b[37m\u001b[0m \u001b[1m5s\u001b[0m 30ms/step - accuracy: 0.5163 - loss: 0.9599 - val_accuracy: 0.5435 - val_loss: 0.9683\n",
            "Epoch 72/100\n",
            "\u001b[1m81/81\u001b[0m \u001b[32m━━━━━━━━━━━━━━━━━━━━\u001b[0m\u001b[37m\u001b[0m \u001b[1m2s\u001b[0m 28ms/step - accuracy: 0.5163 - loss: 0.9580 - val_accuracy: 0.5435 - val_loss: 0.9681\n",
            "Epoch 73/100\n",
            "\u001b[1m81/81\u001b[0m \u001b[32m━━━━━━━━━━━━━━━━━━━━\u001b[0m\u001b[37m\u001b[0m \u001b[1m2s\u001b[0m 28ms/step - accuracy: 0.5163 - loss: 0.9591 - val_accuracy: 0.5435 - val_loss: 0.9675\n",
            "Epoch 74/100\n",
            "\u001b[1m81/81\u001b[0m \u001b[32m━━━━━━━━━━━━━━━━━━━━\u001b[0m\u001b[37m\u001b[0m \u001b[1m3s\u001b[0m 33ms/step - accuracy: 0.5163 - loss: 0.9598 - val_accuracy: 0.5435 - val_loss: 0.9672\n",
            "Epoch 75/100\n",
            "\u001b[1m81/81\u001b[0m \u001b[32m━━━━━━━━━━━━━━━━━━━━\u001b[0m\u001b[37m\u001b[0m \u001b[1m5s\u001b[0m 29ms/step - accuracy: 0.5163 - loss: 0.9597 - val_accuracy: 0.5435 - val_loss: 0.9673\n",
            "Epoch 76/100\n",
            "\u001b[1m81/81\u001b[0m \u001b[32m━━━━━━━━━━━━━━━━━━━━\u001b[0m\u001b[37m\u001b[0m \u001b[1m2s\u001b[0m 28ms/step - accuracy: 0.5163 - loss: 0.9569 - val_accuracy: 0.5435 - val_loss: 0.9682\n",
            "Epoch 77/100\n",
            "\u001b[1m81/81\u001b[0m \u001b[32m━━━━━━━━━━━━━━━━━━━━\u001b[0m\u001b[37m\u001b[0m \u001b[1m3s\u001b[0m 28ms/step - accuracy: 0.5163 - loss: 0.9588 - val_accuracy: 0.5435 - val_loss: 0.9677\n",
            "Epoch 78/100\n",
            "\u001b[1m81/81\u001b[0m \u001b[32m━━━━━━━━━━━━━━━━━━━━\u001b[0m\u001b[37m\u001b[0m \u001b[1m3s\u001b[0m 35ms/step - accuracy: 0.5163 - loss: 0.9574 - val_accuracy: 0.5435 - val_loss: 0.9675\n",
            "Epoch 79/100\n",
            "\u001b[1m81/81\u001b[0m \u001b[32m━━━━━━━━━━━━━━━━━━━━\u001b[0m\u001b[37m\u001b[0m \u001b[1m2s\u001b[0m 30ms/step - accuracy: 0.5163 - loss: 0.9580 - val_accuracy: 0.5435 - val_loss: 0.9673\n"
          ]
        }
      ],
      "source": [
        "from tensorflow.keras.layers import SimpleRNN, Embedding, Dropout, Dense\n",
        "from tensorflow.keras.models import Sequential\n",
        "from tensorflow.keras.callbacks import EarlyStopping\n",
        "from tensorflow.keras import regularizers\n",
        "\n",
        "# Inisialisasi early stopping\n",
        "early_stopping = EarlyStopping(monitor='val_loss', patience=5, restore_best_weights=True)\n",
        "\n",
        "# Definisikan model dengan SimpleRNN\n",
        "model = Sequential([\n",
        "    Embedding(input_dim=len(tokenizer.word_index) + 1, output_dim=128, input_length=max_length),\n",
        "    SimpleRNN(128, return_sequences=True, kernel_regularizer=regularizers.l2(0.001)),\n",
        "    Dropout(0.3),\n",
        "    SimpleRNN(64, kernel_regularizer=regularizers.l2(0.001)),\n",
        "    Dropout(0.3),\n",
        "    Dense(64, activation='relu', kernel_regularizer=regularizers.l2(0.001)),\n",
        "    Dropout(0.3),\n",
        "    Dense(3, activation='softmax')\n",
        "])\n",
        "\n",
        "# Kompilasi model\n",
        "model.compile(optimizer='adam', loss='sparse_categorical_crossentropy', metrics=['accuracy'])\n",
        "\n",
        "# Latih model dengan data validasi dan early stopping\n",
        "history = model.fit(train_data, train_df['label'], epochs=EPOCHS, batch_size=BATCH_SIZE, validation_data=(val_data, val_df['label']), callbacks=[early_stopping])"
      ]
    },
    {
      "cell_type": "markdown",
      "metadata": {
        "id": "yG9X3gQgAOS9"
      },
      "source": [
        "## Training model dengan arsitektur Bidirectional LSTM"
      ]
    },
    {
      "cell_type": "code",
      "execution_count": 78,
      "metadata": {
        "id": "UclYC2Aet2Di"
      },
      "outputs": [],
      "source": [
        "# from tensorflow.keras.layers import LSTM, Bidirectional\n",
        "# from tensorflow.keras import regularizers\n",
        "# from tensorflow.keras.callbacks import EarlyStopping\n",
        "\n",
        "# # Inisialisasi early stopping\n",
        "# early_stopping = EarlyStopping(monitor='val_loss', patience=5, restore_best_weights=True)\n",
        "\n",
        "# # Definisikan model LSTM\n",
        "# model = Sequential([\n",
        "#     Embedding(input_dim=len(tokenizer.word_index) + 1, output_dim=128, input_length=max_length),\n",
        "#     Bidirectional(LSTM(256, return_sequences=True)),\n",
        "#     Dropout(0.5),\n",
        "#     Bidirectional(LSTM(128, return_sequences=True)),\n",
        "#     Dropout(0.5),\n",
        "#     Bidirectional(LSTM(64)),\n",
        "#     Dropout(0.5),\n",
        "#     Dense(64, activation='relu', kernel_regularizer=regularizers.l2(0.01)),\n",
        "#     Dropout(0.5),\n",
        "#     Dense(3, activation='softmax')\n",
        "# ])\n",
        "\n",
        "# # Kompilasi model\n",
        "# model.compile(optimizer='adam', loss='sparse_categorical_crossentropy', metrics=['accuracy'])\n",
        "\n",
        "# # Latih model dengan data validasi dan early stopping\n",
        "# history = model.fit(train_data, train_df['label'],\n",
        "#                     epochs=EPOCHS, batch_size=BATCH_SIZE,\n",
        "#                     validation_data=(val_data, val_df['label']),\n",
        "#                     callbacks=[early_stopping])"
      ]
    },
    {
      "cell_type": "markdown",
      "metadata": {
        "id": "Ey9TIRxaA-96"
      },
      "source": [
        "# Model Evaluation"
      ]
    },
    {
      "cell_type": "code",
      "execution_count": 79,
      "metadata": {
        "id": "9g8XLWYVas0r"
      },
      "outputs": [],
      "source": [
        "import numpy as np\n",
        "import pandas as pd\n",
        "from sklearn.metrics import precision_score, recall_score, f1_score, accuracy_score, confusion_matrix"
      ]
    },
    {
      "cell_type": "code",
      "execution_count": 80,
      "metadata": {
        "id": "4J_id_u6avtg",
        "colab": {
          "base_uri": "https://localhost:8080/"
        },
        "outputId": "08e78e7d-765d-4157-928e-518ed86bf0b4"
      },
      "outputs": [
        {
          "output_type": "stream",
          "name": "stdout",
          "text": [
            "\u001b[1m11/11\u001b[0m \u001b[32m━━━━━━━━━━━━━━━━━━━━\u001b[0m\u001b[37m\u001b[0m \u001b[1m1s\u001b[0m 46ms/step\n"
          ]
        },
        {
          "output_type": "execute_result",
          "data": {
            "text/plain": [
              "array([1, 1, 1, 1, 1, 1, 1, 1, 1, 1, 1, 1, 1, 1, 1, 1, 1, 1, 1, 1, 1, 1,\n",
              "       1, 1, 1, 1, 1, 1, 1, 1, 1, 1, 1, 1, 1, 1, 1, 1, 1, 1, 1, 1, 1, 1,\n",
              "       1, 1, 1, 1, 1, 1, 1, 1, 1, 1, 1, 1, 1, 1, 1, 1, 1, 1, 1, 1, 1, 1,\n",
              "       1, 1, 1, 1, 1, 1, 1, 1, 1, 1, 1, 1, 1, 1, 1, 1, 1, 1, 1, 1, 1, 1,\n",
              "       1, 1, 1, 1, 1, 1, 1, 1, 1, 1, 1, 1, 1, 1, 1, 1, 1, 1, 1, 1, 1, 1,\n",
              "       1, 1, 1, 1, 1, 1, 1, 1, 1, 1, 1, 1, 1, 1, 1, 1, 1, 1, 1, 1, 1, 1,\n",
              "       1, 1, 1, 1, 1, 1, 1, 1, 1, 1, 1, 1, 1, 1, 1, 1, 1, 1, 1, 1, 1, 1,\n",
              "       1, 1, 1, 1, 1, 1, 1, 1, 1, 1, 1, 1, 1, 1, 1, 1, 1, 1, 1, 1, 1, 1,\n",
              "       1, 1, 1, 1, 1, 1, 1, 1, 1, 1, 1, 1, 1, 1, 1, 1, 1, 1, 1, 1, 1, 1,\n",
              "       1, 1, 1, 1, 1, 1, 1, 1, 1, 1, 1, 1, 1, 1, 1, 1, 1, 1, 1, 1, 1, 1,\n",
              "       1, 1, 1, 1, 1, 1, 1, 1, 1, 1, 1, 1, 1, 1, 1, 1, 1, 1, 1, 1, 1, 1,\n",
              "       1, 1, 1, 1, 1, 1, 1, 1, 1, 1, 1, 1, 1, 1, 1, 1, 1, 1, 1, 1, 1, 1,\n",
              "       1, 1, 1, 1, 1, 1, 1, 1, 1, 1, 1, 1, 1, 1, 1, 1, 1, 1, 1, 1, 1, 1,\n",
              "       1, 1, 1, 1, 1, 1, 1, 1, 1, 1, 1, 1, 1, 1, 1, 1, 1, 1, 1, 1, 1, 1,\n",
              "       1, 1, 1, 1, 1, 1, 1, 1, 1, 1, 1, 1, 1, 1])"
            ]
          },
          "metadata": {},
          "execution_count": 80
        }
      ],
      "source": [
        "predictions = model.predict(test_data)\n",
        "predicted_labels = np.argmax(predictions, axis=1)\n",
        "predicted_labels"
      ]
    },
    {
      "cell_type": "code",
      "execution_count": 81,
      "metadata": {
        "id": "aovFQV00amGt",
        "colab": {
          "base_uri": "https://localhost:8080/",
          "height": 564
        },
        "outputId": "a4925e5b-3587-4204-9400-c57cd4513e35"
      },
      "outputs": [
        {
          "output_type": "display_data",
          "data": {
            "text/plain": [
              "<Figure size 800x600 with 2 Axes>"
            ],
            "image/png": "[encoded data removed]"
          },
          "metadata": {}
        }
      ],
      "source": [
        "import matplotlib.pyplot as plt\n",
        "import seaborn as sns\n",
        "\n",
        "# Menghitung confusion matrix\n",
        "conf_matrix = confusion_matrix(test_df['label'], predicted_labels)\n",
        "\n",
        "# Membuat plot confusion matrix\n",
        "plt.figure(figsize=(8, 6))\n",
        "sns.heatmap(conf_matrix, annot=True, fmt='d', cmap='Blues', xticklabels=['Negatif', 'Positif', 'Netral'], yticklabels=['Negatif', 'Positif', 'Netral'])\n",
        "plt.xlabel('Predicted Labels')\n",
        "plt.ylabel('True Labels')\n",
        "plt.title('Confusion Matrix')\n",
        "plt.show()"
      ]
    },
    {
      "cell_type": "code",
      "execution_count": 82,
      "metadata": {
        "id": "pMsdQPRfBmLS",
        "colab": {
          "base_uri": "https://localhost:8080/"
        },
        "outputId": "e00897b4-544d-431f-cb37-9f2eedfbc15e"
      },
      "outputs": [
        {
          "output_type": "stream",
          "name": "stdout",
          "text": [
            "Akurasi Uji: 0.5838509316770186\n",
            "Presisi: 0.34088191042012267\n",
            "Recall: 0.5838509316770186\n",
            "Skor F1: 0.430446961393253\n"
          ]
        },
        {
          "output_type": "stream",
          "name": "stderr",
          "text": [
            "/usr/local/lib/python3.10/dist-packages/sklearn/metrics/_classification.py:1531: UndefinedMetricWarning: Precision is ill-defined and being set to 0.0 in labels with no predicted samples. Use `zero_division` parameter to control this behavior.\n",
            "  _warn_prf(average, modifier, f\"{metric.capitalize()} is\", len(result))\n"
          ]
        }
      ],
      "source": [
        "# Hitung akurasi pada data uji, presisi, recall, dan skor F1\n",
        "test_accuracy = accuracy_score(test_df['label'], predicted_labels)\n",
        "precision = precision_score(test_df['label'], predicted_labels, average='weighted')\n",
        "recall = recall_score(test_df['label'], predicted_labels, average='weighted')\n",
        "f1 = f1_score(test_df['label'], predicted_labels, average='weighted')\n",
        "\n",
        "print(\"Akurasi Uji:\", test_accuracy)\n",
        "print(\"Presisi:\", precision)\n",
        "print(\"Recall:\", recall)\n",
        "print(\"Skor F1:\", f1)"
      ]
    },
    {
      "cell_type": "code",
      "source": [],
      "metadata": {
        "id": "STPTfYU9qx5f"
      },
      "execution_count": 82,
      "outputs": []
    }
  ],
  "metadata": {
    "accelerator": "GPU",
    "colab": {
      "collapsed_sections": [
        "aDpvAw4Mo-QI"
      ],
      "gpuType": "T4",
      "provenance": []
    },
    "kernelspec": {
      "display_name": "Python 3",
      "name": "python3"
    },
    "language_info": {
      "name": "python"
    }
  },
  "nbformat": 4,
  "nbformat_minor": 0
}